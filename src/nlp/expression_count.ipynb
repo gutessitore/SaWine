{
 "cells": [
  {
   "cell_type": "code",
   "execution_count": 1,
   "metadata": {},
   "outputs": [],
   "source": [
    "from pyspark.sql import SparkSession\n",
    "import re\n",
    "import pandas as pd\n",
    "import os"
   ]
  },
  {
   "cell_type": "code",
   "execution_count": 2,
   "metadata": {},
   "outputs": [
    {
     "name": "stdout",
     "output_type": "stream",
     "text": [
      "23/06/22 19:56:53 WARN Utils: Your hostname, WNL900TI148 resolves to a loopback address: 127.0.1.1; using 192.168.100.66 instead (on interface wlp0s20f3)\n",
      "23/06/22 19:56:53 WARN Utils: Set SPARK_LOCAL_IP if you need to bind to another address\n"
     ]
    },
    {
     "name": "stderr",
     "output_type": "stream",
     "text": [
      "Setting default log level to \"WARN\".\n",
      "To adjust logging level use sc.setLogLevel(newLevel). For SparkR, use setLogLevel(newLevel).\n"
     ]
    },
    {
     "name": "stdout",
     "output_type": "stream",
     "text": [
      "23/06/22 19:56:53 WARN NativeCodeLoader: Unable to load native-hadoop library for your platform... using builtin-java classes where applicable\n"
     ]
    }
   ],
   "source": [
    "# Inicializa a sessão do Spark\n",
    "spark = SparkSession.builder.appName(\"Contagem de Palavras\").getOrCreate()\n"
   ]
  },
  {
   "cell_type": "code",
   "execution_count": 6,
   "metadata": {},
   "outputs": [
    {
     "name": "stdout",
     "output_type": "stream",
     "text": [
      "conteudo_uol_cozinha-por-ai.txt\n",
      "conteudo_Suzana_Barelli.txt\n",
      "blogdosvinhos.txt\n",
      "conteudo_o-cachacier.txt\n",
      "conteudo_So_queijo.txt\n",
      "conteudo_uol_timtim.txt\n",
      "guiadasemana.txt\n",
      "conteudo_Blog_da_Belle.txt\n",
      "conteudo_um-cafe-para-dividir.txt\n",
      "conteudo_uol_vai-ter-churras.txt\n",
      "vinhosemsegredo.txt\n",
      "conteudo_blog-da-patricia-ferra.txt\n",
      "conteudo_uol_ao-ponto.txt\n",
      "vinhoegastronomia.txt\n",
      "conteudo_Balcão_do_Giba.txt\n",
      "revista_menu.txt\n",
      "conteudo_vinhonosso.txt\n",
      "dataset_colunistas_vinho.txt\n"
     ]
    }
   ],
   "source": [
    "# Caminho do arquivo de texto\n",
    "path = \"../data/\"\n",
    "words, counts, sites = [], [], []\n",
    "\n",
    "df_termos = pd.read_csv('df_keywords.csv')\n",
    "termos = list(df_termos.word.values)\n",
    "rsociais_files = ['cnnviagemegastronomia.txt', 'reddit.txt']\n",
    "\n",
    "for file_name in os.listdir(path):\n",
    "    if file_name.endswith('.txt') and file_name not in rsociais_files:\n",
    "        file_path = path+file_name\n",
    "        print(file_name)\n",
    "\n",
    "        # Carrega o arquivo como um DataFrame\n",
    "        texto = spark.read.text(file_path)\n",
    "\n",
    "        # Realiza a contagem das expressões\n",
    "        for termo in termos:\n",
    "            pattern = r'\\b{}\\b'.format(re.escape(termo))  # Cria um padrão regex para expressão exata\n",
    "            count = texto.filter(texto.value.rlike(pattern)).count()\n",
    "            words.append(termo)\n",
    "            counts.append(count)\n",
    "            sites.append(str(file_name)[:-4])"
   ]
  },
  {
   "cell_type": "code",
   "execution_count": 7,
   "metadata": {},
   "outputs": [],
   "source": [
    "df = pd.DataFrame({'word': words, 'count': counts, 'site': sites})\n",
    "df = df[df['count']>0].reset_index(drop=True)\n",
    "df = df.sort_values(by='count', ascending=False)\n",
    "df.to_csv('expression_count.csv', index=False)"
   ]
  },
  {
   "cell_type": "code",
   "execution_count": 8,
   "metadata": {},
   "outputs": [
    {
     "data": {
      "text/html": [
       "<div>\n",
       "<style scoped>\n",
       "    .dataframe tbody tr th:only-of-type {\n",
       "        vertical-align: middle;\n",
       "    }\n",
       "\n",
       "    .dataframe tbody tr th {\n",
       "        vertical-align: top;\n",
       "    }\n",
       "\n",
       "    .dataframe thead th {\n",
       "        text-align: right;\n",
       "    }\n",
       "</style>\n",
       "<table border=\"1\" class=\"dataframe\">\n",
       "  <thead>\n",
       "    <tr style=\"text-align: right;\">\n",
       "      <th></th>\n",
       "      <th>word</th>\n",
       "      <th>count</th>\n",
       "      <th>site</th>\n",
       "    </tr>\n",
       "  </thead>\n",
       "  <tbody>\n",
       "    <tr>\n",
       "      <th>119</th>\n",
       "      <td>Pinot Noir</td>\n",
       "      <td>416</td>\n",
       "      <td>dataset_colunistas_vinho</td>\n",
       "    </tr>\n",
       "    <tr>\n",
       "      <th>134</th>\n",
       "      <td>vinho branco</td>\n",
       "      <td>182</td>\n",
       "      <td>dataset_colunistas_vinho</td>\n",
       "    </tr>\n",
       "    <tr>\n",
       "      <th>73</th>\n",
       "      <td>frutas vermelhas</td>\n",
       "      <td>122</td>\n",
       "      <td>vinhoegastronomia</td>\n",
       "    </tr>\n",
       "    <tr>\n",
       "      <th>150</th>\n",
       "      <td>bons vinhos</td>\n",
       "      <td>110</td>\n",
       "      <td>dataset_colunistas_vinho</td>\n",
       "    </tr>\n",
       "    <tr>\n",
       "      <th>118</th>\n",
       "      <td>vinho tinto</td>\n",
       "      <td>98</td>\n",
       "      <td>dataset_colunistas_vinho</td>\n",
       "    </tr>\n",
       "  </tbody>\n",
       "</table>\n",
       "</div>"
      ],
      "text/plain": [
       "                 word  count                      site\n",
       "119        Pinot Noir    416  dataset_colunistas_vinho\n",
       "134      vinho branco    182  dataset_colunistas_vinho\n",
       "73   frutas vermelhas    122         vinhoegastronomia\n",
       "150       bons vinhos    110  dataset_colunistas_vinho\n",
       "118       vinho tinto     98  dataset_colunistas_vinho"
      ]
     },
     "execution_count": 8,
     "metadata": {},
     "output_type": "execute_result"
    }
   ],
   "source": [
    "df.head()"
   ]
  }
 ],
 "metadata": {
  "kernelspec": {
   "display_name": "Python 3",
   "language": "python",
   "name": "python3"
  },
  "language_info": {
   "codemirror_mode": {
    "name": "ipython",
    "version": 3
   },
   "file_extension": ".py",
   "mimetype": "text/x-python",
   "name": "python",
   "nbconvert_exporter": "python",
   "pygments_lexer": "ipython3",
   "version": "3.8.10"
  },
  "orig_nbformat": 4
 },
 "nbformat": 4,
 "nbformat_minor": 2
}
