{
 "cells": [
  {
   "attachments": {},
   "cell_type": "markdown",
   "metadata": {},
   "source": [
    "-> Descobri por que o regex para tirar numeros e caracteres especiis não está titando os números"
   ]
  },
  {
   "attachments": {},
   "cell_type": "markdown",
   "metadata": {},
   "source": [
    "# Bibliotecas"
   ]
  },
  {
   "cell_type": "code",
   "execution_count": 129,
   "metadata": {},
   "outputs": [
    {
     "name": "stderr",
     "output_type": "stream",
     "text": [
      "[nltk_data] Downloading package punkt to /home/marina/nltk_data...\n",
      "[nltk_data]   Package punkt is already up-to-date!\n",
      "[nltk_data] Downloading package stopwords to /home/marina/nltk_data...\n",
      "[nltk_data]   Package stopwords is already up-to-date!\n"
     ]
    },
    {
     "data": {
      "text/plain": [
       "True"
      ]
     },
     "execution_count": 129,
     "metadata": {},
     "output_type": "execute_result"
    }
   ],
   "source": [
    "import pandas as pd\n",
    "import nltk\n",
    "from nltk.tokenize import word_tokenize\n",
    "from nltk.corpus import stopwords\n",
    "import re\n",
    "from unidecode import unidecode\n",
    "\n",
    "nltk.download('punkt')  # Faz o download do pacote de dados necessário\n",
    "nltk.download('stopwords')  # Faz o download das stopwords\n",
    "\n"
   ]
  },
  {
   "attachments": {},
   "cell_type": "markdown",
   "metadata": {},
   "source": [
    "# Funções"
   ]
  },
  {
   "cell_type": "code",
   "execution_count": 158,
   "metadata": {},
   "outputs": [],
   "source": [
    "def contar_termos(arquivo, coluna=None, type='txt'):\n",
    "    if type == 'txt':\n",
    "        with open(arquivo, 'r', encoding='utf-8') as file:\n",
    "            texto = file.read()\n",
    "        \n",
    "            # Tokeniza as palavras no texto\n",
    "            tokens = word_tokenize(texto)\n",
    "        palavras = [word.lower() for word in tokens]\n",
    "\n",
    "    elif type == 'csv':\n",
    "        df = pd.read_csv(arquivo, usecols=[coluna])\n",
    "        df = df.drop_duplicates().reset_index(drop=True)\n",
    "        # Tokeniza as palavras na coluna de texto\n",
    "        tokens = df[coluna].apply(word_tokenize)\n",
    "        palavras = [word.lower() for sublist in tokens for word in sublist]\n",
    "    \n",
    "    # Remove stopwords e caracteres especiais/emojis da lista de palavras\n",
    "    stopwords_list = set(stopwords.words('portuguese'))  # Altere para o idioma desejado, se necessário\n",
    "    palavras = [unidecode(word) for word in palavras if word not in stopwords_list]\n",
    "    palavras = [re.sub(r'[^a-zA-Z0-9]', '', word) for word in palavras if word not in stopwords_list]\n",
    "    \n",
    "    # Remove palavras vazias\n",
    "    palavras = [word for word in palavras if word]\n",
    "    \n",
    "    # Cria bigramas (termos compostos) e conta a ocorrência de cada termo\n",
    "    bigramas = list(nltk.bigrams(palavras))\n",
    "    termos = [f'{word1} {word2}' for word1, word2 in bigramas]\n",
    "    contagem = pd.Series(termos).value_counts().reset_index()\n",
    "    contagem.columns = ['Termo', 'Quantidade']\n",
    "    \n",
    "    return contagem\n"
   ]
  },
  {
   "cell_type": "code",
   "execution_count": 159,
   "metadata": {},
   "outputs": [],
   "source": [
    "def contar_palavras(arquivo, coluna=None, type='txt'):\n",
    "    if type == 'txt':\n",
    "        with open(arquivo, 'r', encoding='utf-8') as file:\n",
    "            texto = file.read()\n",
    "        \n",
    "            # Tokeniza as palavras no texto\n",
    "            tokens = word_tokenize(texto)\n",
    "        palavras = [word.lower() for word in tokens]\n",
    "\n",
    "    elif type == 'csv':\n",
    "        df = pd.read_csv(arquivo, usecols=[coluna])\n",
    "        df = df.drop_duplicates().reset_index(drop=True)\n",
    "        # Tokeniza as palavras na coluna de texto\n",
    "        tokens = df[coluna].apply(word_tokenize)\n",
    "        palavras = [word.lower() for sublist in tokens for word in sublist]\n",
    "    \n",
    "    # Remove as stopwords da lista de palavras\n",
    "    stopwords_list = set(stopwords.words('portuguese'))  # Altere para o idioma desejado, se necessário\n",
    "    palavras = [unidecode(word) for word in palavras if word not in stopwords_list]\n",
    "    palavras = [re.sub(r'[^a-zA-Z0-9]', '', word) for word in palavras if word not in stopwords_list]\n",
    "    \n",
    "    # Remove palavras vazias\n",
    "    palavras = [word for word in palavras if word]\n",
    "    \n",
    "    # Conta a ocorrência de cada palavra\n",
    "    contagem = pd.Series(palavras).value_counts().reset_index()\n",
    "    contagem.columns = ['Palavra', 'Quantidade']\n",
    "    \n",
    "    return contagem\n"
   ]
  },
  {
   "attachments": {},
   "cell_type": "markdown",
   "metadata": {},
   "source": [
    "# Variáveis Globais"
   ]
  },
  {
   "cell_type": "code",
   "execution_count": 160,
   "metadata": {},
   "outputs": [],
   "source": [
    "path = '../data/'\n",
    "insta = path+'cnnviagemegastronomia.txt'\n",
    "reddit = path+'translated_top_posts.csv'"
   ]
  },
  {
   "attachments": {},
   "cell_type": "markdown",
   "metadata": {},
   "source": [
    "# Palavras"
   ]
  },
  {
   "cell_type": "code",
   "execution_count": 161,
   "metadata": {},
   "outputs": [],
   "source": [
    "resultados = list()\n",
    "resultados.append(contar_palavras(insta))\n",
    "\n",
    "coluns_reddit = ['Title', 'Post Text', 'Comments']\n",
    "for col in coluns_reddit:\n",
    "    resultados.append(contar_palavras(reddit, col, 'csv'))\n",
    "\n",
    "df_resultados = pd.concat(resultados)\n",
    "df_resultados_agg = df_resultados.groupby('Palavra', as_index=False).sum()\n",
    "df_resultados_agg = df_resultados_agg.sort_values(by='Quantidade', ascending=False)"
   ]
  },
  {
   "cell_type": "code",
   "execution_count": 162,
   "metadata": {},
   "outputs": [
    {
     "data": {
      "text/plain": [
       "36369"
      ]
     },
     "execution_count": 162,
     "metadata": {},
     "output_type": "execute_result"
    }
   ],
   "source": [
    "len(df_resultados_agg)"
   ]
  },
  {
   "cell_type": "code",
   "execution_count": 163,
   "metadata": {},
   "outputs": [
    {
     "data": {
      "text/html": [
       "<div>\n",
       "<style scoped>\n",
       "    .dataframe tbody tr th:only-of-type {\n",
       "        vertical-align: middle;\n",
       "    }\n",
       "\n",
       "    .dataframe tbody tr th {\n",
       "        vertical-align: top;\n",
       "    }\n",
       "\n",
       "    .dataframe thead th {\n",
       "        text-align: right;\n",
       "    }\n",
       "</style>\n",
       "<table border=\"1\" class=\"dataframe\">\n",
       "  <thead>\n",
       "    <tr style=\"text-align: right;\">\n",
       "      <th></th>\n",
       "      <th>Palavra</th>\n",
       "      <th>Quantidade</th>\n",
       "    </tr>\n",
       "  </thead>\n",
       "  <tbody>\n",
       "    <tr>\n",
       "      <th>35111</th>\n",
       "      <td>vinho</td>\n",
       "      <td>6483</td>\n",
       "    </tr>\n",
       "    <tr>\n",
       "      <th>35164</th>\n",
       "      <td>vinhos</td>\n",
       "      <td>3538</td>\n",
       "    </tr>\n",
       "    <tr>\n",
       "      <th>15987</th>\n",
       "      <td>garrafa</td>\n",
       "      <td>2846</td>\n",
       "    </tr>\n",
       "    <tr>\n",
       "      <th>26634</th>\n",
       "      <td>pode</td>\n",
       "      <td>2249</td>\n",
       "    </tr>\n",
       "    <tr>\n",
       "      <th>16014</th>\n",
       "      <td>garrafas</td>\n",
       "      <td>1517</td>\n",
       "    </tr>\n",
       "    <tr>\n",
       "      <th>2628</th>\n",
       "      <td>alguns</td>\n",
       "      <td>1465</td>\n",
       "    </tr>\n",
       "    <tr>\n",
       "      <th>5510</th>\n",
       "      <td>bom</td>\n",
       "      <td>1441</td>\n",
       "    </tr>\n",
       "    <tr>\n",
       "      <th>24569</th>\n",
       "      <td>obrigado</td>\n",
       "      <td>1395</td>\n",
       "    </tr>\n",
       "    <tr>\n",
       "      <th>12830</th>\n",
       "      <td>entao</td>\n",
       "      <td>1355</td>\n",
       "    </tr>\n",
       "    <tr>\n",
       "      <th>3343</th>\n",
       "      <td>apenas</td>\n",
       "      <td>1296</td>\n",
       "    </tr>\n",
       "    <tr>\n",
       "      <th>31493</th>\n",
       "      <td>sobre</td>\n",
       "      <td>1272</td>\n",
       "    </tr>\n",
       "    <tr>\n",
       "      <th>26952</th>\n",
       "      <td>pouco</td>\n",
       "      <td>1243</td>\n",
       "    </tr>\n",
       "    <tr>\n",
       "      <th>3143</th>\n",
       "      <td>anos</td>\n",
       "      <td>1238</td>\n",
       "    </tr>\n",
       "    <tr>\n",
       "      <th>32944</th>\n",
       "      <td>ter</td>\n",
       "      <td>1200</td>\n",
       "    </tr>\n",
       "    <tr>\n",
       "      <th>5048</th>\n",
       "      <td>bem</td>\n",
       "      <td>1117</td>\n",
       "    </tr>\n",
       "  </tbody>\n",
       "</table>\n",
       "</div>"
      ],
      "text/plain": [
       "        Palavra  Quantidade\n",
       "35111     vinho        6483\n",
       "35164    vinhos        3538\n",
       "15987   garrafa        2846\n",
       "26634      pode        2249\n",
       "16014  garrafas        1517\n",
       "2628     alguns        1465\n",
       "5510        bom        1441\n",
       "24569  obrigado        1395\n",
       "12830     entao        1355\n",
       "3343     apenas        1296\n",
       "31493     sobre        1272\n",
       "26952     pouco        1243\n",
       "3143       anos        1238\n",
       "32944       ter        1200\n",
       "5048        bem        1117"
      ]
     },
     "execution_count": 163,
     "metadata": {},
     "output_type": "execute_result"
    }
   ],
   "source": [
    "df_resultados_agg.head(15)"
   ]
  },
  {
   "attachments": {},
   "cell_type": "markdown",
   "metadata": {},
   "source": [
    "# Termos"
   ]
  },
  {
   "cell_type": "code",
   "execution_count": 164,
   "metadata": {},
   "outputs": [
    {
     "name": "stderr",
     "output_type": "stream",
     "text": [
      "[nltk_data] Downloading package stopwords to /home/marina/nltk_data...\n",
      "[nltk_data]   Package stopwords is already up-to-date!\n",
      "[nltk_data] Downloading package punkt to /home/marina/nltk_data...\n",
      "[nltk_data]   Package punkt is already up-to-date!\n"
     ]
    },
    {
     "data": {
      "text/plain": [
       "True"
      ]
     },
     "execution_count": 164,
     "metadata": {},
     "output_type": "execute_result"
    }
   ],
   "source": [
    "import nltk\n",
    "from nltk.corpus import stopwords\n",
    "from textblob import TextBlob\n",
    "\n",
    "# download de stopwords de nltk\n",
    "nltk.download('stopwords')\n",
    "nltk.download('punkt')"
   ]
  },
  {
   "cell_type": "code",
   "execution_count": 165,
   "metadata": {},
   "outputs": [],
   "source": [
    "resultados = list()\n",
    "resultados.append(contar_termos(insta))\n",
    "\n",
    "coluns_reddit = ['Title', 'Post Text', 'Comments']\n",
    "for col in coluns_reddit:\n",
    "    resultados.append(contar_termos(reddit, col, 'csv'))\n",
    "\n",
    "df_resultados = pd.concat(resultados)\n",
    "df_resultados_agg = df_resultados.groupby('Termo', as_index=False).sum()\n",
    "df_resultados_agg = df_resultados_agg.sort_values(by='Quantidade', ascending=False)"
   ]
  },
  {
   "cell_type": "code",
   "execution_count": 166,
   "metadata": {},
   "outputs": [
    {
     "data": {
      "text/plain": [
       "246921"
      ]
     },
     "execution_count": 166,
     "metadata": {},
     "output_type": "execute_result"
    }
   ],
   "source": [
    "len(df_resultados_agg)"
   ]
  },
  {
   "cell_type": "code",
   "execution_count": 167,
   "metadata": {},
   "outputs": [
    {
     "data": {
      "text/html": [
       "<div>\n",
       "<style scoped>\n",
       "    .dataframe tbody tr th:only-of-type {\n",
       "        vertical-align: middle;\n",
       "    }\n",
       "\n",
       "    .dataframe tbody tr th {\n",
       "        vertical-align: top;\n",
       "    }\n",
       "\n",
       "    .dataframe thead th {\n",
       "        text-align: right;\n",
       "    }\n",
       "</style>\n",
       "<table border=\"1\" class=\"dataframe\">\n",
       "  <thead>\n",
       "    <tr style=\"text-align: right;\">\n",
       "      <th></th>\n",
       "      <th>Termo</th>\n",
       "      <th>Quantidade</th>\n",
       "    </tr>\n",
       "  </thead>\n",
       "  <tbody>\n",
       "    <tr>\n",
       "      <th>108621</th>\n",
       "      <td>garrafa vinho</td>\n",
       "      <td>561</td>\n",
       "    </tr>\n",
       "    <tr>\n",
       "      <th>155560</th>\n",
       "      <td>notas degustacao</td>\n",
       "      <td>520</td>\n",
       "    </tr>\n",
       "    <tr>\n",
       "      <th>174928</th>\n",
       "      <td>podem ter</td>\n",
       "      <td>477</td>\n",
       "    </tr>\n",
       "    <tr>\n",
       "      <th>71531</th>\n",
       "      <td>deste subreddit</td>\n",
       "      <td>455</td>\n",
       "    </tr>\n",
       "    <tr>\n",
       "      <th>238876</th>\n",
       "      <td>vinho https</td>\n",
       "      <td>455</td>\n",
       "    </tr>\n",
       "    <tr>\n",
       "      <th>104259</th>\n",
       "      <td>foto garrafa</td>\n",
       "      <td>455</td>\n",
       "    </tr>\n",
       "    <tr>\n",
       "      <th>17197</th>\n",
       "      <td>alguma duvida</td>\n",
       "      <td>454</td>\n",
       "    </tr>\n",
       "    <tr>\n",
       "      <th>119838</th>\n",
       "      <td>inclua notas</td>\n",
       "      <td>453</td>\n",
       "    </tr>\n",
       "    <tr>\n",
       "      <th>189308</th>\n",
       "      <td>quanto vale</td>\n",
       "      <td>453</td>\n",
       "    </tr>\n",
       "    <tr>\n",
       "      <th>170407</th>\n",
       "      <td>perguntar quanto</td>\n",
       "      <td>453</td>\n",
       "    </tr>\n",
       "    <tr>\n",
       "      <th>54692</th>\n",
       "      <td>comentarios remetentes</td>\n",
       "      <td>452</td>\n",
       "    </tr>\n",
       "    <tr>\n",
       "      <th>213835</th>\n",
       "      <td>subreddit messagecompose</td>\n",
       "      <td>452</td>\n",
       "    </tr>\n",
       "    <tr>\n",
       "      <th>117117</th>\n",
       "      <td>https redditr7lf76</td>\n",
       "      <td>452</td>\n",
       "    </tr>\n",
       "    <tr>\n",
       "      <th>79840</th>\n",
       "      <td>duvida preocupacao</td>\n",
       "      <td>452</td>\n",
       "    </tr>\n",
       "    <tr>\n",
       "      <th>195985</th>\n",
       "      <td>removidas postando</td>\n",
       "      <td>452</td>\n",
       "    </tr>\n",
       "  </tbody>\n",
       "</table>\n",
       "</div>"
      ],
      "text/plain": [
       "                           Termo  Quantidade\n",
       "108621             garrafa vinho         561\n",
       "155560          notas degustacao         520\n",
       "174928                 podem ter         477\n",
       "71531            deste subreddit         455\n",
       "238876               vinho https         455\n",
       "104259              foto garrafa         455\n",
       "17197              alguma duvida         454\n",
       "119838              inclua notas         453\n",
       "189308               quanto vale         453\n",
       "170407          perguntar quanto         453\n",
       "54692     comentarios remetentes         452\n",
       "213835  subreddit messagecompose         452\n",
       "117117        https redditr7lf76         452\n",
       "79840         duvida preocupacao         452\n",
       "195985        removidas postando         452"
      ]
     },
     "execution_count": 167,
     "metadata": {},
     "output_type": "execute_result"
    }
   ],
   "source": [
    "df_resultados_agg.head(15)"
   ]
  }
 ],
 "metadata": {
  "kernelspec": {
   "display_name": "Python 3",
   "language": "python",
   "name": "python3"
  },
  "language_info": {
   "codemirror_mode": {
    "name": "ipython",
    "version": 3
   },
   "file_extension": ".py",
   "mimetype": "text/x-python",
   "name": "python",
   "nbconvert_exporter": "python",
   "pygments_lexer": "ipython3",
   "version": "3.8.10"
  },
  "orig_nbformat": 4
 },
 "nbformat": 4,
 "nbformat_minor": 2
}
