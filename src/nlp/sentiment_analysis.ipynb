{
 "cells": [
  {
   "cell_type": "code",
   "execution_count": 1,
   "metadata": {
    "pycharm": {
     "name": "#%%\n"
    }
   },
   "outputs": [],
   "source": [
    "# Análise de sentimentos com base nos comentários do site vivino\n",
    "# passos\n",
    "# 1. Importar bibliotecas\n",
    "# 2. Importar dados\n",
    "# 3. Limpeza, tratamento e preparação dos dados (tradução de comentários para pt-br)\n",
    "# 4. Classificação dos comentários com base no sentimento usando TextBlob\n",
    "# 5. Realizar uma contagem de palavras para cada sentimento\n",
    "# 6. Replicar o processo para o reddit"
   ]
  },
  {
   "cell_type": "code",
   "execution_count": 2,
   "metadata": {
    "pycharm": {
     "name": "#%%\n"
    }
   },
   "outputs": [
    {
     "name": "stderr",
     "output_type": "stream",
     "text": [
      "[nltk_data] Downloading package vader_lexicon to\n",
      "[nltk_data]     C:\\Users\\gugat\\AppData\\Roaming\\nltk_data...\n",
      "[nltk_data]   Package vader_lexicon is already up-to-date!\n",
      "[nltk_data] Downloading package punkt to\n",
      "[nltk_data]     C:\\Users\\gugat\\AppData\\Roaming\\nltk_data...\n",
      "[nltk_data]   Package punkt is already up-to-date!\n",
      "[nltk_data] Downloading package stopwords to\n",
      "[nltk_data]     C:\\Users\\gugat\\AppData\\Roaming\\nltk_data...\n",
      "[nltk_data]   Package stopwords is already up-to-date!\n"
     ]
    },
    {
     "data": {
      "text/plain": "True"
     },
     "execution_count": 2,
     "metadata": {},
     "output_type": "execute_result"
    }
   ],
   "source": [
    "# 1. Importar bibliotecas\n",
    "# !pip install googletrans==3.1.0a0 --force-reinstall\n",
    "import re\n",
    "import pandas as pd\n",
    "import plotly.express as px\n",
    "from googletrans import Translator\n",
    "from textblob import TextBlob\n",
    "import nltk\n",
    "from nltk.corpus import stopwords\n",
    "from nltk.tokenize import word_tokenize\n",
    "\n",
    "# 1.1. Download de pacotes do NLTK\n",
    "nltk.download('vader_lexicon')\n",
    "nltk.download('punkt')\n",
    "nltk.download('stopwords')"
   ]
  },
  {
   "cell_type": "code",
   "execution_count": 3,
   "metadata": {
    "pycharm": {
     "name": "#%%\n"
    }
   },
   "outputs": [],
   "source": [
    "# Criando função para os passos 3, 4 e 5 para replicar para os outros dataframes\n",
    "def limpeza(df, col: str):\n",
    "    #linhas duplicadas\n",
    "    # print(df.duplicated().sum())\n",
    "    # print(df.duplicated())\n",
    "    df.drop_duplicates(subset=[col], inplace=True)\n",
    "    # print(df.shape)\n",
    "\n",
    "    #traduzir comentários para pt-br\n",
    "    translator = Translator()\n",
    "    df[col] = df[col].apply(lambda x: translator.translate(x, dest='en').text)\n",
    "\n",
    "    #remover stopwords\n",
    "    stop_words = set(stopwords.words())\n",
    "    #adicionar palavras que não fazem sentido para o contexto\n",
    "    # stop_words.update(\n",
    "    #     [\n",
    "    #         'product', 'purchase', 'I bought', 'buy', 'bought', 'we bought', 'they buy', 'and', 'in the',\n",
    "    #         'the', 'a', 'some', 'of', 'for', 'by', 'with', 'without', 'about', 'under', 'between', 'until'\n",
    "    #      ]\n",
    "    # )\n",
    "    df[col] = df[col].apply(lambda x: ' '.join([word for word in x.split() if word not in (stop_words)]))\n",
    "\n",
    "    #remover pontuação\n",
    "    df[col] = df[col].str.replace('[^\\w\\s]','')\n",
    "\n",
    "    #remover espaços em branco\n",
    "    df[col] = df[col].str.strip()\n",
    "\n",
    "    return df\n",
    "\n",
    "def classificacao(texto, col = None):\n",
    "    # Se o texto for um dataframe\n",
    "    if type(texto) == pd.core.frame.DataFrame:\n",
    "        # Classificação dos comentários com base no sentimento usando TextBlob\n",
    "        # Classificar comentários onde se for maior que 0.0 é positivo, menor que 0.0 é negativo e igual a 0.0 é neutro\n",
    "        # texto['Sentimento'] = texto[col].apply(lambda x: TextBlob(x).sentiment.polarity)\n",
    "        # texto['Sentimento'] = texto['Sentimento'].apply(lambda x: 'positivo' if x > 0.0 else ('negativo' if x < 0.0 else 'neutro'))\n",
    "\n",
    "        # Agrupar comentários por sentimento\n",
    "        df_sentimento = texto.groupby('Sentimento').count().reset_index()\n",
    "\n",
    "        # Visualizar quantidade de comentários por sentimento usando gráfico de barras onde neutro é azul, positivo é verde e negativo é vermelho\n",
    "        fig = px.bar(df_sentimento, x='Sentimento', y='Avaliação', color='Sentimento', color_discrete_map={'positivo':'green', 'negativo':'red', 'neutro':'blue'})\n",
    "        fig.show()\n",
    "    else:\n",
    "        pass\n",
    "\n",
    "    # Realizar uma contagem de palavras para cada sentimento\n",
    "    # Criar uma lista de palavras para cada sentimento\n",
    "    positivo = []\n",
    "    negativo = []\n",
    "    neutro = []\n",
    "\n",
    "    # Se o texto for um dataframe\n",
    "    if type(texto) == pd.core.frame.DataFrame:\n",
    "        # Adicionar palavras a lista de acordo com o sentimento\n",
    "        for i in texto[texto['Sentimento'] == 'positivo'][col]:\n",
    "            positivo.append(i)\n",
    "        for i in texto[texto['Sentimento'] == 'negativo'][col]:\n",
    "            negativo.append(i)\n",
    "        for i in texto[texto['Sentimento'] == 'neutro'][col]:\n",
    "            neutro.append(i)\n",
    "    # Se o texto for uma lista\n",
    "    elif type(texto) == list:\n",
    "        for i, review in enumerate(texto):\n",
    "            try:\n",
    "                sentiment = sentiments[i]\n",
    "            except:\n",
    "                sentiment = TextBlob(review).sentiment.polarity\n",
    "                sentiment = 'positive' if sentiment > 0.0 else ('negative' if sentiment < 0.0 else 'neutral')\n",
    "            # print(sentiment)\n",
    "            sentiment_map = {\n",
    "                \"positive\": positivo,\n",
    "                \"negative\": negativo,\n",
    "                \"neutral\": neutro\n",
    "            }\n",
    "            sentiment_map[sentiment].append(review)\n",
    "    else:\n",
    "        pass\n",
    "\n",
    "    # Criar uma lista de palavras para cada sentimento\n",
    "    positivo = ' '.join(positivo)\n",
    "    negativo = ' '.join(negativo)\n",
    "    neutro = ' '.join(neutro)\n",
    "\n",
    "    # Criar uma lista de palavras para cada sentimento\n",
    "    positivo = TextBlob(positivo)\n",
    "    negativo = TextBlob(negativo)\n",
    "    neutro = TextBlob(neutro)\n",
    "\n",
    "    # Criar uma lista de palavras para cada sentimento\n",
    "    positivo = positivo.word_counts.items()\n",
    "    negativo = negativo.word_counts.items()\n",
    "    neutro = neutro.word_counts.items()\n",
    "\n",
    "    # Criar um dataframe para cada sentimento\n",
    "    df_positivo = pd.DataFrame(positivo, columns=['Palavra', 'Contagem'])\n",
    "    df_negativo = pd.DataFrame(negativo, columns=['Palavra', 'Contagem'])\n",
    "    df_neutro = pd.DataFrame(neutro, columns=['Palavra', 'Contagem'])\n",
    "\n",
    "    # Se o texto for um dataframe\n",
    "    if type(texto) == pd.core.frame.DataFrame:\n",
    "        return texto, df_positivo, df_negativo, df_neutro\n",
    "    # Se o texto for uma lista\n",
    "    else:\n",
    "        return df_positivo, df_negativo, df_neutro\n",
    "\n",
    "def visualizacao(df_positivo, df_negativo, df_neutro):\n",
    "    # Visualização dos resultados\n",
    "    # Visualizar quantidade de comentários por sentimento usando gráfico de barras\n",
    "    # Visualizar as 10 palavras mais frequentes para cada sentimento\n",
    "    # Visualizar as 10 palavras mais frequentes para o sentimento positivo\n",
    "    df_positivo = df_positivo.sort_values(by='Contagem', ascending=False)\n",
    "    fig = px.bar(df_positivo.head(10), x='Palavra', y='Contagem', color='Palavra', color_discrete_map={'Palavra':'green'}, title= 'Positivo')\n",
    "    fig.show()\n",
    "\n",
    "    # Visualizar as 10 palavras mais frequentes para o sentimento negativo\n",
    "    df_negativo = df_negativo.sort_values(by='Contagem', ascending=False)\n",
    "    fig = px.bar(df_negativo.head(10), x='Palavra', y='Contagem', color='Palavra', color_discrete_map={'Palavra':'red'}, title= 'Negativo')\n",
    "    fig.show()\n",
    "\n",
    "    # Visualizar as 10 palavras mais frequentes para o sentimento neutro\n",
    "    df_neutro = df_neutro.sort_values(by='Contagem', ascending=False)\n",
    "    fig = px.bar(df_neutro.head(10), x='Palavra', y='Contagem', color='Palavra', color_discrete_map={'Palavra':'blue'}, title= 'Neutro')\n",
    "    fig.show()\n",
    "\n",
    "    return\n"
   ]
  },
  {
   "cell_type": "code",
   "execution_count": 4,
   "metadata": {
    "pycharm": {
     "name": "#%%\n"
    }
   },
   "outputs": [],
   "source": [
    "# 2. Importar dados vivino\n",
    "df_vivino1 = pd.read_excel(r'../data/extracao_vivino_pinot_noir.xlsx')\n",
    "df_vivino2 = pd.read_excel('../data/extracao_vivino_malbec.xlsx')\n",
    "df_vivino3 = pd.read_excel('../data/extracao_vivino_chardonnay.xlsx')"
   ]
  },
  {
   "cell_type": "code",
   "execution_count": 5,
   "metadata": {
    "pycharm": {
     "name": "#%%\n"
    }
   },
   "outputs": [
    {
     "name": "stdout",
     "output_type": "stream",
     "text": [
      "Index(['Nome Vinho', 'Localidade', 'Harmoniza', 'Avaliação'], dtype='object')\n",
      "Index(['Nome Vinho', 'Localidade', 'Harmoniza', 'Avaliação'], dtype='object')\n",
      "Index(['Nome Vinho', 'Localidade', 'Harmoniza', 'Avaliação'], dtype='object')\n"
     ]
    }
   ],
   "source": [
    "# 2.1. visualizar as colunas dos dataframes\n",
    "print(df_vivino1.columns)\n",
    "print(df_vivino2.columns)\n",
    "print(df_vivino3.columns)"
   ]
  },
  {
   "cell_type": "code",
   "execution_count": 6,
   "metadata": {
    "pycharm": {
     "name": "#%%\n"
    }
   },
   "outputs": [
    {
     "data": {
      "text/plain": "                                            Nome Vinho  \\\n0               Anderson Hill O Series Pinot Noir 2018   \n1               Anderson Hill O Series Pinot Noir 2018   \n2               Anderson Hill O Series Pinot Noir 2018   \n3               Anderson Hill O Series Pinot Noir 2018   \n4               Anderson Hill O Series Pinot Noir 2018   \n..                                                 ...   \n486  William Fèvre Chile La Misiōn Chardonnay Reser...   \n487  William Fèvre Chile La Misiōn Chardonnay Reser...   \n488  William Fèvre Chile La Misiōn Chardonnay Reser...   \n489  William Fèvre Chile La Misiōn Chardonnay Reser...   \n490  William Fèvre Chile La Misiōn Chardonnay Reser...   \n\n                    Localidade  \\\n0    Adelaide Hills, Austrália   \n1    Adelaide Hills, Austrália   \n2    Adelaide Hills, Austrália   \n3    Adelaide Hills, Austrália   \n4    Adelaide Hills, Austrália   \n..                         ...   \n486              Pirque, Chile   \n487              Pirque, Chile   \n488              Pirque, Chile   \n489              Pirque, Chile   \n490              Pirque, Chile   \n\n                                             Harmoniza  \\\n0    Carne de vaca, Vitela, Carne de caça (cervo, v...   \n1    Carne de vaca, Vitela, Carne de caça (cervo, v...   \n2    Carne de vaca, Vitela, Carne de caça (cervo, v...   \n3    Carne de vaca, Vitela, Carne de caça (cervo, v...   \n4    Carne de vaca, Vitela, Carne de caça (cervo, v...   \n..                                                 ...   \n486  Porco, Peixe gordo (salmão, atum, etc.), Veget...   \n487  Porco, Peixe gordo (salmão, atum, etc.), Veget...   \n488  Porco, Peixe gordo (salmão, atum, etc.), Veget...   \n489  Porco, Peixe gordo (salmão, atum, etc.), Veget...   \n490  Porco, Peixe gordo (salmão, atum, etc.), Veget...   \n\n                                             Avaliação         Uva  \n0    Excelente pinot noir da Austrália. Medium body...  Pinot Noir  \n1    On the nose, red plum, cherry cola, red cherry...  Pinot Noir  \n2    Strawberry compote, cherry ripe and shitake mu...  Pinot Noir  \n3      Vintage: 2017 Taste & Nose: Aged tangerine peel  Pinot Noir  \n4                                           Safra 2021  Pinot Noir  \n..                                                 ...         ...  \n486                                               good  Chardonnay  \n487                                      Water mineral  Chardonnay  \n488  Green pear, grape and citrus. A simple and fla...  Chardonnay  \n489                                         Safra 2020  Chardonnay  \n490                                         Safra 2019  Chardonnay  \n\n[2042 rows x 5 columns]",
      "text/html": "<div>\n<style scoped>\n    .dataframe tbody tr th:only-of-type {\n        vertical-align: middle;\n    }\n\n    .dataframe tbody tr th {\n        vertical-align: top;\n    }\n\n    .dataframe thead th {\n        text-align: right;\n    }\n</style>\n<table border=\"1\" class=\"dataframe\">\n  <thead>\n    <tr style=\"text-align: right;\">\n      <th></th>\n      <th>Nome Vinho</th>\n      <th>Localidade</th>\n      <th>Harmoniza</th>\n      <th>Avaliação</th>\n      <th>Uva</th>\n    </tr>\n  </thead>\n  <tbody>\n    <tr>\n      <th>0</th>\n      <td>Anderson Hill O Series Pinot Noir 2018</td>\n      <td>Adelaide Hills, Austrália</td>\n      <td>Carne de vaca, Vitela, Carne de caça (cervo, v...</td>\n      <td>Excelente pinot noir da Austrália. Medium body...</td>\n      <td>Pinot Noir</td>\n    </tr>\n    <tr>\n      <th>1</th>\n      <td>Anderson Hill O Series Pinot Noir 2018</td>\n      <td>Adelaide Hills, Austrália</td>\n      <td>Carne de vaca, Vitela, Carne de caça (cervo, v...</td>\n      <td>On the nose, red plum, cherry cola, red cherry...</td>\n      <td>Pinot Noir</td>\n    </tr>\n    <tr>\n      <th>2</th>\n      <td>Anderson Hill O Series Pinot Noir 2018</td>\n      <td>Adelaide Hills, Austrália</td>\n      <td>Carne de vaca, Vitela, Carne de caça (cervo, v...</td>\n      <td>Strawberry compote, cherry ripe and shitake mu...</td>\n      <td>Pinot Noir</td>\n    </tr>\n    <tr>\n      <th>3</th>\n      <td>Anderson Hill O Series Pinot Noir 2018</td>\n      <td>Adelaide Hills, Austrália</td>\n      <td>Carne de vaca, Vitela, Carne de caça (cervo, v...</td>\n      <td>Vintage: 2017 Taste &amp; Nose: Aged tangerine peel</td>\n      <td>Pinot Noir</td>\n    </tr>\n    <tr>\n      <th>4</th>\n      <td>Anderson Hill O Series Pinot Noir 2018</td>\n      <td>Adelaide Hills, Austrália</td>\n      <td>Carne de vaca, Vitela, Carne de caça (cervo, v...</td>\n      <td>Safra 2021</td>\n      <td>Pinot Noir</td>\n    </tr>\n    <tr>\n      <th>...</th>\n      <td>...</td>\n      <td>...</td>\n      <td>...</td>\n      <td>...</td>\n      <td>...</td>\n    </tr>\n    <tr>\n      <th>486</th>\n      <td>William Fèvre Chile La Misiōn Chardonnay Reser...</td>\n      <td>Pirque, Chile</td>\n      <td>Porco, Peixe gordo (salmão, atum, etc.), Veget...</td>\n      <td>good</td>\n      <td>Chardonnay</td>\n    </tr>\n    <tr>\n      <th>487</th>\n      <td>William Fèvre Chile La Misiōn Chardonnay Reser...</td>\n      <td>Pirque, Chile</td>\n      <td>Porco, Peixe gordo (salmão, atum, etc.), Veget...</td>\n      <td>Water mineral</td>\n      <td>Chardonnay</td>\n    </tr>\n    <tr>\n      <th>488</th>\n      <td>William Fèvre Chile La Misiōn Chardonnay Reser...</td>\n      <td>Pirque, Chile</td>\n      <td>Porco, Peixe gordo (salmão, atum, etc.), Veget...</td>\n      <td>Green pear, grape and citrus. A simple and fla...</td>\n      <td>Chardonnay</td>\n    </tr>\n    <tr>\n      <th>489</th>\n      <td>William Fèvre Chile La Misiōn Chardonnay Reser...</td>\n      <td>Pirque, Chile</td>\n      <td>Porco, Peixe gordo (salmão, atum, etc.), Veget...</td>\n      <td>Safra 2020</td>\n      <td>Chardonnay</td>\n    </tr>\n    <tr>\n      <th>490</th>\n      <td>William Fèvre Chile La Misiōn Chardonnay Reser...</td>\n      <td>Pirque, Chile</td>\n      <td>Porco, Peixe gordo (salmão, atum, etc.), Veget...</td>\n      <td>Safra 2019</td>\n      <td>Chardonnay</td>\n    </tr>\n  </tbody>\n</table>\n<p>2042 rows × 5 columns</p>\n</div>"
     },
     "execution_count": 6,
     "metadata": {},
     "output_type": "execute_result"
    }
   ],
   "source": [
    "# 2.2. Mesclar os dataframes\n",
    "# 2.2.1. Colocar uma coluna com a respectiva uva antes de mesclar\n",
    "df_vivino1['Uva'] = 'Pinot Noir'\n",
    "df_vivino2['Uva'] = 'Malbec'\n",
    "df_vivino3['Uva'] = 'Chardonnay'\n",
    "\n",
    "# 2.2.2. Mesclar os dataframes\n",
    "df_vivino = pd.concat([df_vivino1, df_vivino2, df_vivino3])\n",
    "df_vivino"
   ]
  },
  {
   "cell_type": "code",
   "execution_count": null,
   "metadata": {
    "pycharm": {
     "name": "#%%\n",
     "is_executing": true
    }
   },
   "outputs": [],
   "source": [
    "# 3. Limpeza, tratamento e preparação dos dados (tradução de comentários para pt-br)\n",
    "dfx = limpeza(df_vivino, 'Avaliação')"
   ]
  },
  {
   "cell_type": "code",
   "execution_count": null,
   "outputs": [],
   "source": [
    "# Classifica os reviews\n",
    "from sentiment_analysis import ReviewClassifier\n",
    "\n",
    "\n",
    "classifier = ReviewClassifier()\n",
    "# dfx[\"Sentimento\"] = dfx[\"Avaliação\"].apply(lambda review: classifier.get_sentiment(review))\n",
    "# dfx"
   ],
   "metadata": {
    "collapsed": false,
    "pycharm": {
     "name": "#%%\n",
     "is_executing": true
    }
   }
  },
  {
   "cell_type": "code",
   "execution_count": null,
   "outputs": [],
   "source": [
    "# dfx.to_csv(\"df_classificado.csv\")\n",
    "dfx = pd.read_csv(\"../data/df_classificado.csv\")\n",
    "dfx.drop(columns=['Unnamed: 0'], inplace=True)\n",
    "dfx.dropna(inplace=True)\n",
    "dfx"
   ],
   "metadata": {
    "collapsed": false,
    "pycharm": {
     "name": "#%%\n",
     "is_executing": true
    }
   }
  },
  {
   "cell_type": "code",
   "execution_count": null,
   "metadata": {
    "pycharm": {
     "name": "#%%\n",
     "is_executing": true
    }
   },
   "outputs": [],
   "source": [
    "# 3.1. Achar as avaliações que só estão escritos \"Safra 2018\" por exemplo mas achar para todos os anos usando regex para dropar a linha\n",
    "dfx1 = dfx[~dfx['Avaliação'].str.match(r'^Safra \\d{4}$')]\n",
    "dfx1[\"Sentimento\"] = dfx1[\"Sentimento\"].replace({\"positive\": \"positivo\", \"negative\": \"negativo\", \"neutral\": \"neutro\"})\n",
    "dfx1"
   ]
  },
  {
   "cell_type": "code",
   "execution_count": null,
   "metadata": {
    "pycharm": {
     "name": "#%%\n",
     "is_executing": true
    }
   },
   "outputs": [],
   "source": [
    "# 4. Classificação dos comentários com base no sentimento usando TextBlob\n",
    "dfx2, df_positivo, df_negativo, df_neutro = classificacao(dfx1, 'Avaliação')"
   ]
  },
  {
   "cell_type": "code",
   "execution_count": null,
   "metadata": {
    "pycharm": {
     "name": "#%%\n",
     "is_executing": true
    }
   },
   "outputs": [],
   "source": [
    "# 5. Visualização dos resultados\n",
    "visualizacao(df_positivo, df_negativo, df_neutro)"
   ]
  },
  {
   "cell_type": "code",
   "execution_count": null,
   "outputs": [],
   "source": [
    "dfx1.query(\"Sentimento == 'negativo'\")['Avaliação'].to_list()"
   ],
   "metadata": {
    "collapsed": false,
    "pycharm": {
     "name": "#%%\n",
     "is_executing": true
    }
   }
  },
  {
   "cell_type": "code",
   "execution_count": null,
   "metadata": {
    "pycharm": {
     "name": "#%%\n",
     "is_executing": true
    }
   },
   "outputs": [],
   "source": [
    "# 6. Replicar para o reddit\n",
    "with open(\"../data/reddit.txt\", 'r', encoding='utf-8') as file:\n",
    "    texto = file.read()\n",
    "    # Tokeniza as palavras no texto\n",
    "    tokens = word_tokenize(texto)\n",
    "palavras = [word.lower() for word in tokens]\n",
    "# Remove as stopwords da lista de palavras\n",
    "stopwords_list = set(stopwords.words('portuguese'))  # Altere para o idioma desejado, se necessário\n",
    "#adicionar palavras que não fazem sentido para o contexto\n",
    "stopwords_list.update(['produto', 'compra', 'comprei', 'comprar', 'comprado', 'comprada', 'compramos', 'compram', 'and',\n",
    "                    'na', 'no', 'nas', 'nos', 'o', 'a', 'os', 'as', 'um', 'uma', 'uns', 'umas', 'de', 'do', 'da', 'lol',\n",
    "                    'dos', 'das', 'em', 'para', 'por', 'com', 'sem', 'sobre', 'sob', 'entre', 'até', 'ate', 'até','haha', 'ento'\n",
    "                    ])\n",
    "palavras = [word for word in palavras if word not in stopwords_list]\n",
    "palavras = [re.sub(r'[^a-zA-Z0-9]', '', word) for word in palavras if word not in stopwords_list]\n",
    "\n",
    "# Remove palavras vazias\n",
    "palavras = [word for word in palavras if word]"
   ]
  },
  {
   "cell_type": "code",
   "execution_count": null,
   "outputs": [],
   "source": [
    "len(palavras)"
   ],
   "metadata": {
    "collapsed": false,
    "pycharm": {
     "name": "#%%\n",
     "is_executing": true
    }
   }
  },
  {
   "cell_type": "code",
   "execution_count": null,
   "metadata": {
    "pycharm": {
     "name": "#%%\n",
     "is_executing": true
    }
   },
   "outputs": [],
   "source": [
    "# Classifica as palavras em positivas, negativas e neutras e depois conta a frequência para cada classe\n",
    "df_positivo2, df_negativo2, df_neutro2 = classificacao(palavras)"
   ]
  },
  {
   "cell_type": "code",
   "execution_count": null,
   "metadata": {
    "pycharm": {
     "name": "#%%\n",
     "is_executing": true
    }
   },
   "outputs": [],
   "source": [
    "# Visualização dos resultados\n",
    "visualizacao(df_positivo2, df_negativo2, df_neutro2)"
   ]
  },
  {
   "cell_type": "code",
   "execution_count": null,
   "outputs": [],
   "source": [
    "df_negativo.Palavra.to_list()"
   ],
   "metadata": {
    "collapsed": false,
    "pycharm": {
     "name": "#%%\n",
     "is_executing": true
    }
   }
  },
  {
   "cell_type": "code",
   "execution_count": null,
   "outputs": [],
   "source": [
    "# Separando palavras exclusivamente negativas\n",
    "negative_words = set(df_negativo2.Palavra.to_list())\n",
    "positive_words = set(df_positivo2.Palavra.to_list())\n",
    "neutral_words = set(df_neutro2.Palavra.to_list())\n",
    "\n",
    "negative_words = negative_words - positive_words - neutral_words\n",
    "list(negative_words)"
   ],
   "metadata": {
    "collapsed": false,
    "pycharm": {
     "name": "#%%\n",
     "is_executing": true
    }
   }
  },
  {
   "cell_type": "code",
   "execution_count": null,
   "outputs": [],
   "source": [
    "df_positivo2.Palavra.to_list()"
   ],
   "metadata": {
    "collapsed": false,
    "pycharm": {
     "name": "#%%\n",
     "is_executing": true
    }
   }
  }
 ],
 "metadata": {
  "kernelspec": {
   "display_name": "Python 3",
   "language": "python",
   "name": "python3"
  },
  "language_info": {
   "codemirror_mode": {
    "name": "ipython",
    "version": 3
   },
   "file_extension": ".py",
   "mimetype": "text/x-python",
   "name": "python",
   "nbconvert_exporter": "python",
   "pygments_lexer": "ipython3",
   "version": "3.11.4"
  },
  "orig_nbformat": 4
 },
 "nbformat": 4,
 "nbformat_minor": 2
}