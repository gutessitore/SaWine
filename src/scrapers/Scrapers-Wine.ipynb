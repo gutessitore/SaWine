{
 "cells": [
  {
   "cell_type": "code",
   "execution_count": 12,
   "metadata": {},
   "outputs": [
    {
     "name": "stderr",
     "output_type": "stream",
     "text": [
      "URLs: 100%|██████████| 38/38 [01:39<00:00,  2.61s/it]\n",
      "URLs: 100%|██████████| 1028/1028 [23:17<00:00,  1.36s/it]\n",
      "URLs: 100%|██████████| 129/129 [03:25<00:00,  1.59s/it]\n",
      "URLs: 100%|██████████| 739/739 [15:45<00:00,  1.28s/it]\n",
      "URLs: 100%|██████████| 808/808 [17:00<00:00,  1.26s/it]\n",
      "URLs: 100%|██████████| 1361/1361 [33:47<00:00,  1.49s/it]\n",
      "sitess: 100%|██████████| 6/6 [1:35:47<00:00, 957.97s/it] \n"
     ]
    }
   ],
   "source": [
    "import pandas as pd\n",
    "from tqdm import tqdm\n",
    "from trafilatura.sitemaps import sitemap_search\n",
    "from trafilatura import fetch_url, extract\n",
    "import time\n",
    "\n",
    "def url_site(resource_url: str) -> list:\n",
    "    urls = sitemap_search(resource_url)\n",
    "    return urls\n",
    "\n",
    "\n",
    "def extrator_artigos(url: str) -> dict:\n",
    "    download = fetch_url(url)\n",
    "    artigos = extract(download, favor_precision=True)\n",
    "    return artigos\n",
    "\n",
    "\n",
    "def criador_dataset(linkSites: list) -> pd.DataFrame:\n",
    "    data = []\n",
    "    for sites in tqdm(linkSites, desc=\"sitess\"):\n",
    "        urls = url_site(sites)\n",
    "        for url in tqdm(urls, desc=\"URLs\"):\n",
    "            d = {\n",
    "                'URL': url,\n",
    "                \"ARTIGOS\": extrator_artigos(url)\n",
    "            }\n",
    "            data.append(d)\n",
    "            time.sleep(0.5)\n",
    "\n",
    "    df = pd.DataFrame(data)\n",
    "    df = df.drop_duplicates()\n",
    "    df = df.dropna()\n",
    "    return df\n",
    "\n",
    "\n",
    "if __name__ == \"__main__\":\n",
    "    linkSites = [\n",
    "        \"https://gamarevista.uol.com.br/colunistas/isabelle-moreira-lima/\",\n",
    "        \"https://deisenovakoski.com.br/\",\n",
    "        \"https://ozclarke.com/\",\n",
    "        \"https://gourmets-amadores.blogspot.com/\",\n",
    "        \"http://vinhoearte.blogspot.com/\",\n",
    "        \"https://www.menucriativo.com/\"\n",
    "    ]\n",
    "\n",
    "    df = criador_dataset(linkSites)\n",
    "\n",
    "    with open(\"dataset_colunistas_vinho.txt\", \"w\") as file:\n",
    "        for index, row in df.iterrows():\n",
    "            file.write(f\"URL: {row['URL']}\\n\")\n",
    "            file.write(f\"ARTIGOS: {row['ARTIGOS']}\\n\\n\")\n"
   ]
  },
  {
   "cell_type": "code",
   "execution_count": null,
   "metadata": {},
   "outputs": [],
   "source": []
  }
 ],
 "metadata": {
  "kernelspec": {
   "display_name": "base",
   "language": "python",
   "name": "python3"
  },
  "language_info": {
   "codemirror_mode": {
    "name": "ipython",
    "version": 3
   },
   "file_extension": ".py",
   "mimetype": "text/x-python",
   "name": "python",
   "nbconvert_exporter": "python",
   "pygments_lexer": "ipython3",
   "version": "3.9.13"
  },
  "orig_nbformat": 4
 },
 "nbformat": 4,
 "nbformat_minor": 2
}
