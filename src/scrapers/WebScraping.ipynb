{
 "cells": [
  {
   "cell_type": "code",
   "execution_count": 1,
   "metadata": {},
   "outputs": [],
   "source": [
    "from selenium import webdriver\n",
    "from selenium.webdriver.chrome.options import Options\n",
    "from selenium.webdriver.chrome.service import Service\n",
    "import pandas as pd\n",
    "from bs4 import BeautifulSoup\n",
    "import time\n",
    "import pickle\n",
    "from selenium.webdriver.common.by import By\n"
   ]
  },
  {
   "cell_type": "code",
   "execution_count": 2,
   "metadata": {},
   "outputs": [],
   "source": [
    "# Set path Selenium\n",
    "CHROMEDRIVER_PATH = '/usr/local/bin/chromedriver'\n",
    "s = Service(CHROMEDRIVER_PATH)\n",
    "WINDOW_SIZE = \"1920,1080\""
   ]
  },
  {
   "cell_type": "code",
   "execution_count": 3,
   "metadata": {},
   "outputs": [],
   "source": [
    "# Options\n",
    "chrome_options = Options()\n",
    "chrome_options.add_argument(\"--headless\")\n",
    "chrome_options.add_argument(\"--window-size=%s\" % WINDOW_SIZE)\n",
    "chrome_options.add_argument('--no-sandbox')\n",
    "driver = webdriver.Chrome(service=s, options=chrome_options)\n"
   ]
  },
  {
   "attachments": {},
   "cell_type": "markdown",
   "metadata": {},
   "source": [
    "# Funções"
   ]
  },
  {
   "cell_type": "code",
   "execution_count": 22,
   "metadata": {},
   "outputs": [],
   "source": [
    "# Função para carregar os cookies\n",
    "def load_cookies(path):\n",
    "    # Carregar os cookies\n",
    "    cookies = pickle.load(open(path+\"cookies_estadao.pkl\", \"rb\"))\n",
    "    # Adicionar os cookies ao navegador\n",
    "    for cookie in cookies:\n",
    "        driver.add_cookie(cookie)\n",
    "    return\n",
    "\n",
    "# Função para carregar mais publicações do blog\n",
    "def carregar_mais(xpath, v):\n",
    "    # Clicar no botão v vezes usando uma variável de controle\n",
    "    controle = 0\n",
    "    while controle < v:\n",
    "        # Clicar no botão \"Carregar mais\"\n",
    "        botao = driver.find_element(By.XPATH, xpath)\n",
    "        botao.click()\n",
    "        # Esperar a página carregar\n",
    "        time.sleep(5)\n",
    "        # Atualizar o controle\n",
    "        controle += 1\n",
    "    return"
   ]
  },
  {
   "cell_type": "code",
   "execution_count": 5,
   "metadata": {},
   "outputs": [],
   "source": [
    "def get_urls(url, class_, path, botao_carregar=None, qntd_carregar=None):\n",
    "    print(f'Recolhendo links ...')\n",
    "\n",
    "    driver.get(url)\n",
    "\n",
    "    if botao_carregar != None:\n",
    "        load_cookies(path)\n",
    "        carregar_mais(botao_carregar, qntd_carregar)\n",
    "\n",
    "    # Encontrar todos os links dentro da div com a classe \"thumbnails-wrapper\"\n",
    "    elementos_links = driver.find_elements(\"xpath\", f\"//div[@class='{class_}']//a\")\n",
    "\n",
    "    # Extrair os links (atributo href) de cada elemento encontrado\n",
    "    links = [elemento.get_attribute('href') for elemento in elementos_links]\n",
    "\n",
    "    # retirando links repetidos\n",
    "    links = list(set(links))\n",
    "\n",
    "    return links"
   ]
  },
  {
   "cell_type": "code",
   "execution_count": 18,
   "metadata": {},
   "outputs": [],
   "source": [
    "def get_content(links, class_text):\n",
    "    conteudo = dict()\n",
    "    \n",
    "    for url in links:\n",
    "        print(f'Recolhendo dados {url}...')\n",
    "        # Get the response and print title\n",
    "        driver.get(url)\n",
    "        time.sleep(2)\n",
    "\n",
    "        # Extrair o conteúdo da página\n",
    "        conteudo_html = driver.page_source\n",
    "\n",
    "        # Utilizar BeautifulSoup para analisar o HTML\n",
    "        soup = BeautifulSoup(conteudo_html, 'html.parser')\n",
    "\n",
    "        # Encontrar a div com a classe \"entry-content\"\n",
    "        div_entry_content = soup.find('div', class_=class_text)\n",
    "\n",
    "        if div_entry_content != None:\n",
    "            # Encontrar a tag <body> e extrair apenas o texto\n",
    "            conteudo[url] = div_entry_content.get_text(strip=True)\n",
    "        else:\n",
    "            print('vazio')\n",
    "\n",
    "    return conteudo"
   ]
  },
  {
   "cell_type": "code",
   "execution_count": 19,
   "metadata": {},
   "outputs": [],
   "source": [
    "path = '../data/'"
   ]
  },
  {
   "attachments": {},
   "cell_type": "markdown",
   "metadata": {},
   "source": [
    "# uol.com.br/nossa/"
   ]
  },
  {
   "cell_type": "code",
   "execution_count": 30,
   "metadata": {},
   "outputs": [
    {
     "name": "stdout",
     "output_type": "stream",
     "text": [
      "Recolhendo links ...\n",
      "Recolhendo dados https://www.uol.com.br/nossa/noticias/redacao/2023/06/07/vinho-brasileiro-conquista-medalha-em-concurso-internacional-pela-1-vez.htm...\n",
      "Recolhendo dados https://www.uol.com.br/nossa/noticias/redacao/2023/06/01/franca-destroi-35-mil-garrafas-de-soda-pela-audacia-de-se-dizer-champagne.htm...\n",
      "Recolhendo dados https://www.uol.com.br/nossa/noticias/afp/2023/06/01/clara-de-ovo-no-vinho-produtores-terao-que-explicar-ingredientes-no-rotulo.htm...\n",
      "Recolhendo dados https://www.uol.com.br/nossa/noticias/ansa/2023/05/30/spritz-e-drink-favorito-dos-italianos-no-aperitivo.htm...\n",
      "Recolhendo dados https://www.uol.com.br/nossa/noticias/agencia-estado/2023/05/24/prefeitura-sanciona-lei-para-combater-assedio-sexual-em-bares-e-restaurantes-de-sp.htm...\n",
      "Recolhendo dados https://www.uol.com.br/nossa/noticias/redacao/2023/05/26/vai-um-gim-tonica-raiz-como-drinques-famosos-mudaram-com-o-tempo.htm...\n",
      "Recolhendo dados https://www.uol.com.br/nossa/noticias/redacao/2023/06/02/mecas-do-vinho-de-garrafao-tentam-mudar-a-imagem-com-rotulos-sofisticados.htm...\n",
      "Recolhendo dados https://www.uol.com.br/nossa/noticias/redacao/2023/05/20/no-dia-do-uisque-aprenda-a-saborear-a-bebida-e-prove-drinques-diferentes.htm...\n",
      "Recolhendo dados https://www.uol.com.br/nossa/noticias/redacao/2023/06/09/vinho-mais-antigo-do-mundo-tem-1700-anos-e-ainda-pode-ser-bebido-entenda.htm...\n",
      "Recolhendo dados https://www.uol.com.br/nossa/noticias/redacao/2023/05/19/o-que-aprendi-com-derivan-bartenders-celebram-memoria-do-mestre.htm...\n",
      "Recolhendo dados https://www.uol.com.br/nossa/noticias/redacao/2023/06/06/curitibana-e-eleita-a-melhor-batender-do-brasil-em-copa-dos-drinques.htm...\n"
     ]
    }
   ],
   "source": [
    "url_principal = \"https://www.uol.com.br/nossa/cozinha/tim-tim/\"\n",
    "class_ = 'flex-wrap '\n",
    "\n",
    "links = get_urls(url_principal, class_, path)\n",
    "\n",
    "\n",
    "class_text = 'text'\n",
    "conteudo = get_content(links, class_text)"
   ]
  },
  {
   "cell_type": "code",
   "execution_count": 31,
   "metadata": {},
   "outputs": [],
   "source": [
    "df = pd.DataFrame({'URL': conteudo.keys(), 'Conteúdo': conteudo.values()})\n",
    "df.to_csv(path+'conteudo_uol_timtim.csv')"
   ]
  },
  {
   "attachments": {},
   "cell_type": "markdown",
   "metadata": {},
   "source": [
    "# Suzana Barelli"
   ]
  },
  {
   "cell_type": "code",
   "execution_count": 20,
   "metadata": {},
   "outputs": [],
   "source": [
    "url_principal = \"https://neofeed.com.br/autor/suzana-barelli/\"\n",
    "class_ = 'td_module_10 td_module_wrap td-animation-stack '\n",
    "\n",
    "links = get_urls(url_principal, class_, path)\n",
    "\n",
    "# retirando links indesejados\n",
    "links = list(set(links))\n",
    "\n",
    "for l in links:\n",
    "    if len(l) <= 50:\n",
    "        links.remove(l)\n",
    "\n",
    "\n",
    "class_text = 'td-post-content tagdiv-type'\n",
    "conteudo = get_content(links, class_text)"
   ]
  },
  {
   "cell_type": "code",
   "execution_count": 16,
   "metadata": {},
   "outputs": [],
   "source": [
    "df = pd.DataFrame({'URL': conteudo.keys(), 'Conteúdo': conteudo.values()})\n",
    "df.to_csv(path+'conteudo_Suzana_Barelli.csv')"
   ]
  },
  {
   "attachments": {},
   "cell_type": "markdown",
   "metadata": {},
   "source": [
    "# Balcão do Giba (Coluna Estadão)"
   ]
  },
  {
   "cell_type": "code",
   "execution_count": 23,
   "metadata": {},
   "outputs": [
    {
     "name": "stdout",
     "output_type": "stream",
     "text": [
      "Recolhendo links ...\n",
      "Recolhendo dados https://www.estadao.com.br/paladar/balcao-do-giba/loop-abre-as-portas-na-vila-madalena-com-foco-na-sustentabilidade/...\n",
      "Recolhendo dados https://www.estadao.com.br/paladar/balcao-do-giba/com-fiica-bartender-toalha-realiza-o-sonho-da-casa-propria/...\n",
      "Recolhendo dados https://www.estadao.com.br/paladar/balcao-do-giba/nao-sabe-o-que-dar-de-presente-no-dia-das-maes-que-tal-preparar-um-coquetel-para-a-mulher-mais-importante-da-sua-vida/...\n",
      "Recolhendo dados https://www.estadao.com.br/paladar/balcao-do-giba/drinque-em-homenagem-ao-gabriel-garcia-marquez-no-bar-riviera/...\n",
      "Recolhendo dados https://www.estadao.com.br/paladar/balcao-do-giba/conheca-os-bares-de-coquetelaria-que-promovem-bailinhos-de-carnaval/...\n",
      "Recolhendo dados https://www.estadao.com.br/paladar/balcao-do-giba/greenkitchen-volta-com-coqueteis-de-thiago-pereira-conheca-tambem-os-drinques-da-adega-santiago/...\n",
      "Recolhendo dados https://www.estadao.com.br/paladar/balcao-do-giba/no-gran-bar-experimente-o-curto-uma-versao-de-bloody-mary-com-com-agua-de-tomate-temperado-e-molho-de-ostra/...\n",
      "Recolhendo dados https://www.estadao.com.br/paladar/balcao-do-giba/voce-ja-experimentou-uma-caipirinha-suja-no-bargo-mooca-tem/...\n",
      "Recolhendo dados https://www.estadao.com.br/paladar/balcao-do-giba/liz-cocktails-co-vai-lancar-carta-baseada-em-classicos-do-cinema-no-dia-do-oscar/...\n",
      "Recolhendo dados https://www.estadao.com.br/paladar/balcao-do-giba/passeio-etilico-pelo-centro-de-sp-a-coquetelaria-do-cineclube-cortina-do-fel-e-infini-bar/...\n",
      "Recolhendo dados https://www.estadao.com.br/paladar/balcao-do-giba/a-coquetelaria-de-dois-achados-de-sp-o-mapu-e-o-shoshana-delishop/...\n",
      "Recolhendo dados https://www.estadao.com.br/paladar/balcao-do-giba/conheca-a-coquetelaria-do-viro-bistro-nova-casa-no-baixo-augusta/...\n",
      "Recolhendo dados https://www.estadao.com.br/paladar/balcao-do-giba/conheca-alquimia-a-nova-carta-de-coqueteis-do-bar-do-lobby-do-grand-hyatt/...\n",
      "Recolhendo dados https://www.estadao.com.br/paladar/balcao-do-giba/o-jeito-frank-sinatra-de-ser-do-novo-the-s/...\n",
      "Recolhendo dados https://www.estadao.com.br/paladar/balcao-do-giba/a-coquetelaria-de-inspiracao-japonesa-do-imakay/...\n",
      "Recolhendo dados https://www.estadao.com.br/paladar/balcao-do-giba/punk-cuisine-chega-aos-jardins-com-coquetelaria-sofisticada/...\n",
      "Recolhendo dados https://www.estadao.com.br/paladar/balcao-do-giba/coquetelaria-com-espirito-italiano-no-restaurante-donna/...\n",
      "Recolhendo dados https://www.estadao.com.br/paladar/balcao-do-giba/conheca-o-no-barbie-girl-um-coquetel-inspirado-nos-tradicionais-milkshakes/...\n",
      "Recolhendo dados https://www.estadao.com.br/paladar/balcao-do-giba/a-coquetelaria-leve-e-redondinha-do-modern-momma-osteria/...\n",
      "Recolhendo dados https://www.estadao.com.br/paladar/balcao-do-giba/conheca-as-prescricoes-do-dr-spencer-amereno-na-nova-carta-do-guilhotina-bar/...\n",
      "Recolhendo dados https://www.estadao.com.br/paladar/balcao-do-giba/conheca-a-coquetelaria-de-espirito-latino-do-jabali-novo-bar-na-santa-cecilia/...\n",
      "Recolhendo dados https://www.estadao.com.br/paladar/balcao-do-giba/que-tal-um-bar-fechado-para-apenas-7-clientes-conheca-a-experiencia-exclusiva-de-uma-viagem-com-santana/...\n",
      "Recolhendo dados https://www.estadao.com.br/paladar/balcao-do-giba/no-bar-ceci-pode-apostar-a-vida-ate-parece-uma-festa/...\n",
      "Recolhendo dados https://www.estadao.com.br/paladar/balcao-do-giba/nova-carta-do-sylvester-aposta-no-amadurecimento-do-publico/...\n"
     ]
    }
   ],
   "source": [
    "url_principal = \"https://www.estadao.com.br/paladar/balcao-do-giba/\"\n",
    "class_ = 'content'\n",
    "botao_carregar = '//*[@id=\"fusion-app\"]/div/div[1]/div/div/div/div[1]/div/div[2]/div/div[3]/button'\n",
    "qntd_carregar = 5\n",
    "\n",
    "links = get_urls(url_principal, class_, path, botao_carregar, qntd_carregar)\n",
    "\n",
    "class_text = 'styles__ContentWrapperContainerStyled-sc-1ehbu6v-0 klsZKo content-wrapper news-body container content template-reportagem already-sliced already-checked'\n",
    "conteudo = get_content(links, class_text)"
   ]
  },
  {
   "cell_type": "code",
   "execution_count": 24,
   "metadata": {},
   "outputs": [],
   "source": [
    "df = pd.DataFrame({'URL': conteudo.keys(), 'Conteúdo': conteudo.values()})\n",
    "df.to_csv(path+'conteudo_Balcão_do_Giba.csv')"
   ]
  },
  {
   "attachments": {},
   "cell_type": "markdown",
   "metadata": {},
   "source": [
    "# Só queijo (Coluna Estadão)"
   ]
  },
  {
   "cell_type": "code",
   "execution_count": 25,
   "metadata": {},
   "outputs": [
    {
     "name": "stdout",
     "output_type": "stream",
     "text": [
      "Recolhendo links ...\n",
      "Recolhendo dados https://www.estadao.com.br/paladar/so-queijo/queijistas-em-cena-no-palco-da-faria-lima/...\n",
      "Recolhendo dados https://www.estadao.com.br/paladar/so-queijo/encantou-se-gabriel-andrade-defensor-do-queijo-de-leite-cru/...\n",
      "Recolhendo dados https://www.estadao.com.br/paladar/so-queijo/revisitando-o-queijo-minas-artesanal/...\n",
      "Recolhendo dados https://www.estadao.com.br/paladar/so-queijo/aventura-queijeira-na-polonia/...\n",
      "Recolhendo dados https://www.estadao.com.br/paladar/so-queijo/concurso-de-melhor-fondue-do-brasil-em-sao-paulo/...\n",
      "Recolhendo dados https://www.estadao.com.br/paladar/so-queijo/repercussoes-do-mundial-do-queijo-do-brasil-em-sao-paulo/...\n",
      "Recolhendo dados https://www.estadao.com.br/paladar/so-queijo/no-tabuleiro-da-baiana-tem-queijo/...\n",
      "Recolhendo dados https://www.estadao.com.br/paladar/so-queijo/a-ressurreicao-de-266-kg-queijos-artesanais-paulistas-enterrados-vivos/...\n",
      "Recolhendo dados https://www.estadao.com.br/paladar/so-queijo/sial-em-paris-as-tendencias-queijeiras-internacionais/...\n",
      "Recolhendo dados https://www.estadao.com.br/paladar/so-queijo/queijo_de_cabra_em_toda_delicadeza/...\n",
      "Recolhendo dados https://www.estadao.com.br/paladar/so-queijo/loja-inova-na-franca-com-queijo-e-flores-no-mesmo-ambiente/...\n",
      "Recolhendo dados https://www.estadao.com.br/paladar/so-queijo/os-vencedores-do-concurso-frances-de-mof/...\n",
      "Recolhendo dados https://www.estadao.com.br/paladar/so-queijo/o-queijo-no-centro-da-orgia-da-comida-francesa/...\n",
      "Recolhendo dados https://www.estadao.com.br/paladar/so-queijo/concurso-mundial-de-queijos-na-terra-dos-dragoes/...\n",
      "Recolhendo dados https://www.estadao.com.br/paladar/so-queijo/ideias-para-um-natal-queijeiro-mais-sensorial/...\n",
      "Recolhendo dados https://www.estadao.com.br/paladar/so-queijo/rota-do-queijo-canastra-convida-para-conhecer-seu-terroir/...\n",
      "Recolhendo dados https://www.estadao.com.br/paladar/so-queijo/seis-vinhos-brasileiros-para-queijos-especiais/...\n",
      "Recolhendo dados https://www.estadao.com.br/paladar/so-queijo/flashes-do-concurso-nacional-de-queijos-franceses/...\n",
      "Recolhendo dados https://www.estadao.com.br/paladar/so-queijo/cremes-de-leite-e-manteiga-fermentados-em-teste-na-belafazenda/...\n",
      "Recolhendo dados https://www.estadao.com.br/paladar/so-queijo/visita-em-galeria-de-obras-de-arte-queijeiras/...\n",
      "Recolhendo dados https://www.estadao.com.br/paladar/so-queijo/campea-brasileira-de-fondue-chef-goiana-se-prepara-para-mundial-na-suica/...\n",
      "Recolhendo dados https://www.estadao.com.br/paladar/so-queijo/brasilia-teve-queijo-de-cabra-leite-a2a2-e-alta-gastronomia/...\n",
      "Recolhendo dados https://www.estadao.com.br/paladar/so-queijo/queijos-japoneses-e-argelianos-em-destaque-na-guilde-des-fromagers/...\n",
      "Recolhendo dados https://www.estadao.com.br/paladar/so-queijo/roteiro-gastronomico-sao-paulo-vira-a-capital-do-queijo/...\n"
     ]
    }
   ],
   "source": [
    "url_principal = \"https://www.estadao.com.br/paladar/so-queijo/\"\n",
    "class_ = 'content'\n",
    "\n",
    "links = get_urls(url_principal, class_, path, botao_carregar, qntd_carregar)\n",
    "\n",
    "class_text = 'styles__ContentWrapperContainerStyled-sc-1ehbu6v-0 klsZKo content-wrapper news-body container content template-reportagem already-sliced already-checked'\n",
    "conteudo = get_content(links, class_text)"
   ]
  },
  {
   "cell_type": "code",
   "execution_count": 26,
   "metadata": {},
   "outputs": [],
   "source": [
    "df = pd.DataFrame({'URL': conteudo.keys(), 'Conteúdo': conteudo.values()})\n",
    "df.to_csv(path+'conteudo_So_queijo.csv')"
   ]
  },
  {
   "attachments": {},
   "cell_type": "markdown",
   "metadata": {},
   "source": [
    "# Blog da Belle (Coluna Estadão)"
   ]
  },
  {
   "cell_type": "code",
   "execution_count": 27,
   "metadata": {},
   "outputs": [
    {
     "name": "stdout",
     "output_type": "stream",
     "text": [
      "Recolhendo links ...\n",
      "Recolhendo dados https://www.estadao.com.br/paladar/blog-da-belle/pirulito-de-vinho-existe-coisa-de-americano-mas-entrega-no-brasil/...\n",
      "Recolhendo dados https://www.estadao.com.br/paladar/blog-da-belle/romanee-conti-com-oferta-inicial-de-r-21-mil-e-destaque-de-leilao/...\n",
      "Recolhendo dados https://www.estadao.com.br/paladar/blog-da-belle/produtores-de-vinho-e-de-cannabis-testam-colaboracao-na-california/...\n",
      "Recolhendo dados https://www.estadao.com.br/paladar/blog-da-belle/incendio-atinge-100-mil-hectares-na-california-deixa-mortos-e-destroi-vinicolas/...\n",
      "Recolhendo dados https://www.estadao.com.br/paladar/blog-da-belle/bares-criam-festival-do-vinho-e-vendem-rotulos-a-preco-de-importadora-durante-dez-dias/...\n",
      "Recolhendo dados https://www.estadao.com.br/paladar/blog-da-belle/pequeno-glossario-do-vinho-2-vinho-vinicola-vinhedo-e-outras-palavras-com-v/...\n",
      "Recolhendo dados https://www.estadao.com.br/paladar/blog-da-belle/vinho-natural-apreendido-no-rs-sera-analisado/...\n",
      "Recolhendo dados https://www.estadao.com.br/paladar/blog-da-belle/testes-levam-vinhos-ao-fundo-do-mar-para-melhorar-maturacao/...\n",
      "Recolhendo dados https://www.estadao.com.br/paladar/blog-da-belle/nova-loja-online-de-vinhos-promete-descontos-permanentes-de-ate-80/...\n",
      "Recolhendo dados https://www.estadao.com.br/paladar/blog-da-belle/12-dicas-de-presentes-do-universo-do-vinho-para-o-dia-das-maes/...\n",
      "Recolhendo dados https://www.estadao.com.br/paladar/blog-da-belle/leveduras-com-dna-modificado-podem-dar-novo-sabor-aos-vinhos-diz-estudo/...\n",
      "Recolhendo dados https://www.estadao.com.br/paladar/blog-da-belle/sete-bares-de-vinho-de-sao-paulo-fazem-festival-de-verao/...\n",
      "Recolhendo dados https://www.estadao.com.br/paladar/blog-da-belle/duas-feiras-para-comprar-os-vinhos-das-festas-de-fim-de-ano/...\n",
      "Recolhendo dados https://www.estadao.com.br/paladar/blog-da-belle/rio-tem-semana-dedicada-ao-vinho-a-partir-de-segunda/...\n",
      "Recolhendo dados https://www.estadao.com.br/paladar/blog-da-belle/grande-prova-vinhos-do-brasil-avalia-821-rotulos-no-rio-de-janeiro/...\n",
      "Recolhendo dados https://www.estadao.com.br/paladar/blog-da-belle/os-melhores-vinhos-por-ate-r-70-da-expovinis/...\n",
      "Recolhendo dados https://www.estadao.com.br/paladar/blog-da-belle/entusiastas-se-mobilizam-em-defesa-de-produtor-de-vinho-natural-do-rs/...\n",
      "Recolhendo dados https://www.estadao.com.br/paladar/blog-da-belle/leilao-online-de-vinhos-iconicos-inclui-rotulo-de-1894/...\n",
      "Recolhendo dados https://www.estadao.com.br/paladar/blog-da-belle/vinhos-feitos-com-tecnologia-mineira-ganham-premios-em-londres/...\n",
      "Recolhendo dados https://www.estadao.com.br/paladar/blog-da-belle/tres-vinhos-de-bordeaux-para-cada-classico-frances-no-casserole/...\n",
      "Recolhendo dados https://www.estadao.com.br/paladar/blog-da-belle/abaixo-a-ditadura-da-merlot-vinho-brasileiro-esta-mais-variado-mostra-avaliacao-nacional-de-vinhos/...\n",
      "Recolhendo dados https://www.estadao.com.br/paladar/blog-da-belle/pequeno-glossario-do-vinho-1-nao-confunda-mais-enologo-enofilo-e-outros-termos/...\n",
      "Recolhendo dados https://www.estadao.com.br/paladar/blog-da-belle/vinhedos-da-franca-sofrem-pior-geada-em-25-anos/...\n",
      "Recolhendo dados https://www.estadao.com.br/paladar/blog-da-belle/produtor-natural-do-rs-tem-todos-os-vinhos-apreendidos/...\n"
     ]
    }
   ],
   "source": [
    "url_principal = \"https://www.estadao.com.br/paladar/blog-da-belle/\"\n",
    "class_ = 'content'\n",
    "\n",
    "links = get_urls(url_principal, class_, path, botao_carregar, qntd_carregar)\n",
    "\n",
    "class_text = 'styles__ContentWrapperContainerStyled-sc-1ehbu6v-0 klsZKo content-wrapper news-body container content template-reportagem already-sliced already-checked'\n",
    "conteudo = get_content(links, class_text)"
   ]
  },
  {
   "cell_type": "code",
   "execution_count": 28,
   "metadata": {},
   "outputs": [],
   "source": [
    "df = pd.DataFrame({'URL': conteudo.keys(), 'Conteúdo': conteudo.values()})\n",
    "df.to_csv(path+'conteudo_Blog_da_Belle.csv')"
   ]
  },
  {
   "attachments": {},
   "cell_type": "markdown",
   "metadata": {},
   "source": [
    "# vinhonosso (blog)"
   ]
  },
  {
   "cell_type": "code",
   "execution_count": 29,
   "metadata": {},
   "outputs": [
    {
     "name": "stdout",
     "output_type": "stream",
     "text": [
      "Recolhendo dados 2018/12...\n",
      "Recolhendo dados 2021/09...\n",
      "Recolhendo dados 2018/02...\n",
      "Recolhendo dados 2018/01...\n",
      "Recolhendo dados 2017/10...\n",
      "Recolhendo dados 2017/08...\n",
      "Recolhendo dados 2017/07...\n",
      "Recolhendo dados 2017/05...\n"
     ]
    }
   ],
   "source": [
    "datas = [\n",
    "    ['2018', '12'] ,['2021', '09']  , ['2018', '02'], ['2018', '01'],\n",
    "    ['2017', '10'], ['2017', '08'], ['2017', '07'], ['2017', '05']\n",
    "    ]\n",
    "\n",
    "conteudo = dict()\n",
    "\n",
    "for ano, mes in datas:\n",
    "    print(f'Recolhendo dados {ano}/{mes}...')\n",
    "    # Get the response and print title\n",
    "    driver.get(f\"https://vinhonosso.com/{ano}/{mes}/\")\n",
    "\n",
    "    # Extrair o conteúdo da página\n",
    "    conteudo_html = driver.page_source\n",
    "\n",
    "    # Utilizar BeautifulSoup para analisar o HTML\n",
    "    soup = BeautifulSoup(conteudo_html, 'html.parser')\n",
    "\n",
    "    # Encontrar a div com a classe \"entry-content\"\n",
    "    div_entry_content = soup.find('div', class_='entry-content')\n",
    "\n",
    "    # Encontrar a tag <body> e extrair apenas o texto\n",
    "    conteudo[f'{ano}/{mes}'] = div_entry_content.get_text(strip=True)\n",
    "\n",
    "df = pd.DataFrame({'Data': conteudo.keys(), 'Conteúdo': conteudo.values()})\n",
    "df.to_csv(path+'conteudo_vinhonosso.csv')"
   ]
  }
 ],
 "metadata": {
  "kernelspec": {
   "display_name": "Python 3",
   "language": "python",
   "name": "python3"
  },
  "language_info": {
   "codemirror_mode": {
    "name": "ipython",
    "version": 3
   },
   "file_extension": ".py",
   "mimetype": "text/x-python",
   "name": "python",
   "nbconvert_exporter": "python",
   "pygments_lexer": "ipython3",
   "version": "3.8.10"
  },
  "orig_nbformat": 4
 },
 "nbformat": 4,
 "nbformat_minor": 2
}
