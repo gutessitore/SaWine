{
 "cells": [
  {
   "cell_type": "code",
   "execution_count": null,
   "metadata": {},
   "outputs": [],
   "source": [
    "from selenium import webdriver\n",
    "from selenium.webdriver.chrome.options import Options\n",
    "from selenium.webdriver.chrome.service import Service\n",
    "import pandas as pd\n",
    "from bs4 import BeautifulSoup\n",
    "import time\n",
    "import pickle\n",
    "from selenium.webdriver.common.by import By\n"
   ]
  },
  {
   "cell_type": "code",
   "execution_count": null,
   "metadata": {},
   "outputs": [],
   "source": [
    "# Set path Selenium\n",
    "CHROMEDRIVER_PATH = '/usr/local/bin/chromedriver'\n",
    "s = Service(CHROMEDRIVER_PATH)\n",
    "WINDOW_SIZE = \"1920,1080\""
   ]
  },
  {
   "cell_type": "code",
   "execution_count": null,
   "metadata": {},
   "outputs": [],
   "source": [
    "# Options\n",
    "chrome_options = Options()\n",
    "# chrome_options.add_argument(\"--headless\")\n",
    "chrome_options.add_argument(\"--window-size=%s\" % WINDOW_SIZE)\n",
    "chrome_options.add_argument('--no-sandbox')\n",
    "driver = webdriver.Chrome(service=s, options=chrome_options)\n"
   ]
  },
  {
   "attachments": {},
   "cell_type": "markdown",
   "metadata": {},
   "source": [
    "# Funções"
   ]
  },
  {
   "cell_type": "code",
   "execution_count": null,
   "metadata": {},
   "outputs": [],
   "source": [
    "# Função para carregar os cookies\n",
    "def load_cookies(path):\n",
    "    # Carregar os cookies\n",
    "    cookies = pickle.load(open(path+\"cookies.pkl\", \"rb\"))\n",
    "    # Adicionar os cookies ao navegador\n",
    "    for cookie in cookies:\n",
    "        driver.add_cookie(cookie)\n",
    "    return\n",
    "\n",
    "# Função para carregar mais publicações do blog\n",
    "def carregar_mais(xpath, v):\n",
    "    # Clicar no botão v vezes usando uma variável de controle\n",
    "    controle = 0\n",
    "    while controle < v:\n",
    "        print(v)\n",
    "        # Esperar a página carregar\n",
    "        time.sleep(5)\n",
    "        # Clicar no botão \"Carregar mais\"\n",
    "        botao = driver.find_element(By.XPATH, xpath)\n",
    "        botao.click()\n",
    "        # Atualizar o controle\n",
    "        controle += 1\n",
    "    return"
   ]
  },
  {
   "cell_type": "code",
   "execution_count": null,
   "metadata": {},
   "outputs": [],
   "source": [
    "def get_urls(url, class_, path, botao_carregar=None, qntd_carregar=None):\n",
    "    print(f'Recolhendo links ...')\n",
    "\n",
    "    driver.get(url)\n",
    "    print('ok')\n",
    "\n",
    "    if botao_carregar != None:\n",
    "        # load_cookies(path)\n",
    "        time.sleep(10)\n",
    "        carregar_mais(botao_carregar, qntd_carregar)\n",
    "\n",
    "    # Encontrar todos os links dentro da div com a classe \"thumbnails-wrapper\"\n",
    "    elementos_links = driver.find_elements(\"xpath\", f\"//div[@class='{class_}']//a\")\n",
    "\n",
    "    # Extrair os links (atributo href) de cada elemento encontrado\n",
    "    links = [elemento.get_attribute('href') for elemento in elementos_links]\n",
    "\n",
    "    # retirando links repetidos\n",
    "    links = list(set(links))\n",
    "\n",
    "    return links"
   ]
  },
  {
   "cell_type": "code",
   "execution_count": null,
   "metadata": {},
   "outputs": [],
   "source": [
    "def get_content(links, class_text):\n",
    "    conteudo = dict()\n",
    "    \n",
    "    for url in links:\n",
    "        print(f'Recolhendo dados {url}...')\n",
    "        # Get the response and print title\n",
    "        driver.get(url)\n",
    "        time.sleep(2)\n",
    "\n",
    "        # Extrair o conteúdo da página\n",
    "        conteudo_html = driver.page_source\n",
    "\n",
    "        # Utilizar BeautifulSoup para analisar o HTML\n",
    "        soup = BeautifulSoup(conteudo_html, 'html.parser')\n",
    "\n",
    "        # Encontrar a div com a classe \"entry-content\"\n",
    "        div_entry_content = soup.find('div', class_=class_text)\n",
    "\n",
    "        if div_entry_content != None:\n",
    "            # Encontrar a tag <body> e extrair apenas o texto\n",
    "            conteudo[url] = div_entry_content.get_text(strip=True)\n",
    "        else:\n",
    "            print('vazio')\n",
    "\n",
    "    return conteudo"
   ]
  },
  {
   "cell_type": "code",
   "execution_count": null,
   "metadata": {},
   "outputs": [],
   "source": [
    "path = '../data/'"
   ]
  },
  {
   "attachments": {},
   "cell_type": "markdown",
   "metadata": {},
   "source": [
    "# Blog da Patrícia"
   ]
  },
  {
   "cell_type": "code",
   "execution_count": null,
   "metadata": {},
   "outputs": [],
   "source": [
    "url_principal = \"https://www.estadao.com.br/paladar/blog-da-patricia-ferraz/\"\n",
    "class_ = 'content'\n",
    "botao_carregar = '/html/body/div[1]/div/div[1]/div/div/div/div[1]/div/div[2]/div/div[3]/button'\n",
    "button_cookie = '/html/body/div[2]/div/div/div/div[2]/button'\n",
    "qntd_carregar = 5\n",
    "\n",
    "links = get_urls(url_principal, class_, path, botao_carregar, qntd_carregar)\n",
    "\n",
    "class_text = 'styles__ContentWrapperContainerStyled-sc-1ehbu6v-0 klsZKo content-wrapper news-body container content template-reportagem already-sliced already-checked'\n",
    "conteudo = get_content(links, class_text)\n",
    "\n",
    "# df = pd.DataFrame({'URL': conteudo.keys(), 'Conteúdo': conteudo.values()})\n",
    "# df.to_csv(path+'conteudo_blog-da-patricia-ferra.csv')"
   ]
  },
  {
   "attachments": {},
   "cell_type": "markdown",
   "metadata": {},
   "source": [
    "# O Cachacier"
   ]
  },
  {
   "cell_type": "code",
   "execution_count": null,
   "metadata": {},
   "outputs": [],
   "source": [
    "url_principal = \"https://www.estadao.com.br/paladar/o-cachacier/\"\n",
    "class_ = 'content'\n",
    "botao_carregar = '/html/body/div[1]/div/div[1]/div/div/div/div[1]/div/div[2]/div/div[3]/button'\n",
    "button_cookie = '/html/body/div[2]/div/div/div/div[2]/button'\n",
    "qntd_carregar = 5\n",
    "\n",
    "links = get_urls(url_principal, class_, path, botao_carregar, qntd_carregar)\n",
    "\n",
    "class_text = 'styles__ContentWrapperContainerStyled-sc-1ehbu6v-0 klsZKo content-wrapper news-body container content template-reportagem already-sliced already-checked'\n",
    "conteudo = get_content(links, class_text)\n",
    "\n",
    "df = pd.DataFrame({'URL': conteudo.keys(), 'Conteúdo': conteudo.values()})\n",
    "df.to_csv(path+'conteudo_o-cachacier.csv')"
   ]
  },
  {
   "attachments": {},
   "cell_type": "markdown",
   "metadata": {},
   "source": [
    "# Um café para dividir"
   ]
  },
  {
   "cell_type": "code",
   "execution_count": null,
   "metadata": {},
   "outputs": [],
   "source": [
    "url_principal = \"https://www.estadao.com.br/paladar/um-cafe-para-dividir/\"\n",
    "class_ = 'content'\n",
    "botao_carregar = '/html/body/div[1]/div/div[1]/div/div/div/div[1]/div/div[2]/div/div[3]/button'\n",
    "button_cookie = '/html/body/div[2]/div/div/div/div[2]/button'\n",
    "qntd_carregar = 5\n",
    "\n",
    "links = get_urls(url_principal, class_, path, botao_carregar, qntd_carregar)\n",
    "\n",
    "class_text = 'styles__ContentWrapperContainerStyled-sc-1ehbu6v-0 klsZKo content-wrapper news-body container content template-reportagem already-sliced already-checked'\n",
    "conteudo = get_content(links, class_text)\n",
    "\n",
    "df = pd.DataFrame({'URL': conteudo.keys(), 'Conteúdo': conteudo.values()})\n",
    "df.to_csv(path+'conteudo_um-cafe-para-dividir.csv')"
   ]
  },
  {
   "attachments": {},
   "cell_type": "markdown",
   "metadata": {},
   "source": [
    "# uol tim-tim"
   ]
  },
  {
   "cell_type": "code",
   "execution_count": null,
   "metadata": {},
   "outputs": [],
   "source": [
    "url_principal = \"https://www.uol.com.br/nossa/cozinha/tim-tim/\"\n",
    "class_ = 'flex-wrap '\n",
    "\n",
    "links = get_urls(url_principal, class_, path)\n",
    "\n",
    "\n",
    "class_text = 'text'\n",
    "conteudo = get_content(links, class_text)"
   ]
  },
  {
   "cell_type": "code",
   "execution_count": null,
   "metadata": {},
   "outputs": [],
   "source": [
    "df = pd.DataFrame({'URL': conteudo.keys(), 'Conteúdo': conteudo.values()})\n",
    "df.to_csv(path+'conteudo_uol_timtim.csv')"
   ]
  },
  {
   "attachments": {},
   "cell_type": "markdown",
   "metadata": {},
   "source": [
    "# uol cozinha-por-ai"
   ]
  },
  {
   "cell_type": "code",
   "execution_count": null,
   "metadata": {},
   "outputs": [],
   "source": [
    "url_principal = \"https://www.uol.com.br/nossa/cozinha/cozinha-por-ai/\"\n",
    "class_ = 'flex-wrap '\n",
    "links = get_urls(url_principal, class_, path)\n",
    "\n",
    "\n",
    "class_text = 'text'\n",
    "conteudo = get_content(links, class_text)"
   ]
  },
  {
   "cell_type": "code",
   "execution_count": null,
   "metadata": {},
   "outputs": [],
   "source": [
    "df = pd.DataFrame({'URL': conteudo.keys(), 'Conteúdo': conteudo.values()})\n",
    "df.to_csv(path+'conteudo_uol_cozinha-por-ai.csv')"
   ]
  },
  {
   "attachments": {},
   "cell_type": "markdown",
   "metadata": {},
   "source": [
    "# uol ao-ponto"
   ]
  },
  {
   "cell_type": "code",
   "execution_count": null,
   "metadata": {},
   "outputs": [],
   "source": [
    "url_principal = \"https://www.uol.com.br/nossa/cozinha/ao-ponto/ \"\n",
    "class_ = 'flex-wrap '\n",
    "links = get_urls(url_principal, class_, path)\n",
    "\n",
    "\n",
    "class_text = 'text'\n",
    "conteudo = get_content(links, class_text)"
   ]
  },
  {
   "cell_type": "code",
   "execution_count": null,
   "metadata": {},
   "outputs": [],
   "source": [
    "df = pd.DataFrame({'URL': conteudo.keys(), 'Conteúdo': conteudo.values()})\n",
    "df.to_csv(path+'conteudo_uol_ao-ponto.csv')"
   ]
  },
  {
   "attachments": {},
   "cell_type": "markdown",
   "metadata": {},
   "source": [
    "# uol vai-ter-churras"
   ]
  },
  {
   "cell_type": "code",
   "execution_count": null,
   "metadata": {},
   "outputs": [],
   "source": [
    "url_principal = \"https://www.uol.com.br/nossa/cozinha/vai-ter-churras/\"\n",
    "class_ = 'flex-wrap '\n",
    "links = get_urls(url_principal, class_, path)\n",
    "\n",
    "\n",
    "class_text = 'text'\n",
    "conteudo = get_content(links, class_text)"
   ]
  },
  {
   "cell_type": "code",
   "execution_count": null,
   "metadata": {},
   "outputs": [],
   "source": [
    "df = pd.DataFrame({'URL': conteudo.keys(), 'Conteúdo': conteudo.values()})\n",
    "df.to_csv(path+'conteudo_uol_vai-ter-churras.csv')"
   ]
  },
  {
   "attachments": {},
   "cell_type": "markdown",
   "metadata": {},
   "source": [
    "# Suzana Barelli"
   ]
  },
  {
   "cell_type": "code",
   "execution_count": null,
   "metadata": {},
   "outputs": [],
   "source": [
    "url_principal = \"https://neofeed.com.br/autor/suzana-barelli/\"\n",
    "class_ = 'td_module_10 td_module_wrap td-animation-stack '\n",
    "\n",
    "links = get_urls(url_principal, class_, path)\n",
    "\n",
    "# retirando links indesejados\n",
    "links = list(set(links))\n",
    "\n",
    "for l in links:\n",
    "    if len(l) <= 50:\n",
    "        links.remove(l)\n",
    "\n",
    "\n",
    "class_text = 'td-post-content tagdiv-type'\n",
    "conteudo = get_content(links, class_text)"
   ]
  },
  {
   "cell_type": "code",
   "execution_count": null,
   "metadata": {},
   "outputs": [],
   "source": [
    "df = pd.DataFrame({'URL': conteudo.keys(), 'Conteúdo': conteudo.values()})\n",
    "df.to_csv(path+'conteudo_Suzana_Barelli.csv')"
   ]
  },
  {
   "attachments": {},
   "cell_type": "markdown",
   "metadata": {},
   "source": [
    "# Balcão do Giba (Coluna Estadão)"
   ]
  },
  {
   "cell_type": "code",
   "execution_count": null,
   "metadata": {},
   "outputs": [],
   "source": [
    "url_principal = \"https://www.estadao.com.br/paladar/balcao-do-giba/\"\n",
    "class_ = 'content'\n",
    "botao_carregar = '//*[@id=\"fusion-app\"]/div/div[1]/div/div/div/div[1]/div/div[2]/div/div[3]/button'\n",
    "qntd_carregar = 5\n",
    "\n",
    "links = get_urls(url_principal, class_, path, botao_carregar, qntd_carregar)\n",
    "\n",
    "class_text = 'styles__ContentWrapperContainerStyled-sc-1ehbu6v-0 klsZKo content-wrapper news-body container content template-reportagem already-sliced already-checked'\n",
    "conteudo = get_content(links, class_text)"
   ]
  },
  {
   "cell_type": "code",
   "execution_count": null,
   "metadata": {},
   "outputs": [],
   "source": [
    "df = pd.DataFrame({'URL': conteudo.keys(), 'Conteúdo': conteudo.values()})\n",
    "df.to_csv(path+'conteudo_Balcão_do_Giba.csv')"
   ]
  },
  {
   "attachments": {},
   "cell_type": "markdown",
   "metadata": {},
   "source": [
    "# Só queijo (Coluna Estadão)"
   ]
  },
  {
   "cell_type": "code",
   "execution_count": null,
   "metadata": {},
   "outputs": [],
   "source": [
    "url_principal = \"https://www.estadao.com.br/paladar/so-queijo/\"\n",
    "class_ = 'content'\n",
    "\n",
    "links = get_urls(url_principal, class_, path, botao_carregar, qntd_carregar)\n",
    "\n",
    "class_text = 'styles__ContentWrapperContainerStyled-sc-1ehbu6v-0 klsZKo content-wrapper news-body container content template-reportagem already-sliced already-checked'\n",
    "conteudo = get_content(links, class_text)"
   ]
  },
  {
   "cell_type": "code",
   "execution_count": null,
   "metadata": {},
   "outputs": [],
   "source": [
    "df = pd.DataFrame({'URL': conteudo.keys(), 'Conteúdo': conteudo.values()})\n",
    "df.to_csv(path+'conteudo_So_queijo.csv')"
   ]
  },
  {
   "attachments": {},
   "cell_type": "markdown",
   "metadata": {},
   "source": [
    "# Blog da Belle (Coluna Estadão)"
   ]
  },
  {
   "cell_type": "code",
   "execution_count": null,
   "metadata": {},
   "outputs": [],
   "source": [
    "url_principal = \"https://www.estadao.com.br/paladar/blog-da-belle/\"\n",
    "class_ = 'content'\n",
    "\n",
    "links = get_urls(url_principal, class_, path, botao_carregar, qntd_carregar)\n",
    "\n",
    "class_text = 'styles__ContentWrapperContainerStyled-sc-1ehbu6v-0 klsZKo content-wrapper news-body container content template-reportagem already-sliced already-checked'\n",
    "conteudo = get_content(links, class_text)"
   ]
  },
  {
   "cell_type": "code",
   "execution_count": null,
   "metadata": {},
   "outputs": [],
   "source": [
    "df = pd.DataFrame({'URL': conteudo.keys(), 'Conteúdo': conteudo.values()})\n",
    "df.to_csv(path+'conteudo_Blog_da_Belle.csv')"
   ]
  },
  {
   "attachments": {},
   "cell_type": "markdown",
   "metadata": {},
   "source": [
    "# vinhonosso (blog)"
   ]
  },
  {
   "cell_type": "code",
   "execution_count": null,
   "metadata": {},
   "outputs": [],
   "source": [
    "datas = [\n",
    "    ['2018', '12'] ,['2021', '09']  , ['2018', '02'], ['2018', '01'],\n",
    "    ['2017', '10'], ['2017', '08'], ['2017', '07'], ['2017', '05']\n",
    "    ]\n",
    "\n",
    "conteudo = dict()\n",
    "\n",
    "for ano, mes in datas:\n",
    "    print(f'Recolhendo dados {ano}/{mes}...')\n",
    "    # Get the response and print title\n",
    "    driver.get(f\"https://vinhonosso.com/{ano}/{mes}/\")\n",
    "\n",
    "    # Extrair o conteúdo da página\n",
    "    conteudo_html = driver.page_source\n",
    "\n",
    "    # Utilizar BeautifulSoup para analisar o HTML\n",
    "    soup = BeautifulSoup(conteudo_html, 'html.parser')\n",
    "\n",
    "    # Encontrar a div com a classe \"entry-content\"\n",
    "    div_entry_content = soup.find('div', class_='entry-content')\n",
    "\n",
    "    # Encontrar a tag <body> e extrair apenas o texto\n",
    "    conteudo[f'{ano}/{mes}'] = div_entry_content.get_text(strip=True)\n",
    "\n",
    "df = pd.DataFrame({'Data': conteudo.keys(), 'Conteúdo': conteudo.values()})\n",
    "df.to_csv(path+'conteudo_vinhonosso.csv')"
   ]
  }
 ],
 "metadata": {
  "kernelspec": {
   "display_name": "Python 3",
   "language": "python",
   "name": "python3"
  },
  "language_info": {
   "codemirror_mode": {
    "name": "ipython",
    "version": 3
   },
   "file_extension": ".py",
   "mimetype": "text/x-python",
   "name": "python",
   "nbconvert_exporter": "python",
   "pygments_lexer": "ipython3",
   "version": "3.8.10"
  },
  "orig_nbformat": 4
 },
 "nbformat": 4,
 "nbformat_minor": 2
}
